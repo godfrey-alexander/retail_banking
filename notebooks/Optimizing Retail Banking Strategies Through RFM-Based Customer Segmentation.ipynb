{
 "cells": [
  {
   "cell_type": "markdown",
   "metadata": {
    "id": "9CoAD9UB8OFC"
   },
   "source": [
    "### Importing Libraries & Loading the dataset"
   ]
  },
  {
   "cell_type": "code",
   "execution_count": 1,
   "metadata": {
    "executionInfo": {
     "elapsed": 12076,
     "status": "ok",
     "timestamp": 1759863107780,
     "user": {
      "displayName": "Godfrey Alexander",
      "userId": "16346979036691848608"
     },
     "user_tz": -60
    },
    "id": "zIMPYwJ5hfKu"
   },
   "outputs": [],
   "source": [
    "import pandas as pd\n",
    "import matplotlib.pyplot as plt\n",
    "import seaborn as sns\n",
    "import warnings\n",
    "\n",
    "df = pd.read_csv('../data/bank_data_C.csv', parse_dates=True)\n"
   ]
  },
  {
   "cell_type": "markdown",
   "metadata": {
    "id": "juh4IOjg8SwE"
   },
   "source": [
    "### General Overview"
   ]
  },
  {
   "cell_type": "code",
   "execution_count": 2,
   "metadata": {
    "colab": {
     "base_uri": "https://localhost:8080/",
     "height": 206
    },
    "executionInfo": {
     "elapsed": 279,
     "status": "ok",
     "timestamp": 1759863108073,
     "user": {
      "displayName": "Godfrey Alexander",
      "userId": "16346979036691848608"
     },
     "user_tz": -60
    },
    "id": "FiPeVQzh8YKb",
    "outputId": "76ca61a2-f6f3-4935-becb-024c1a25099d"
   },
   "outputs": [
    {
     "data": {
      "text/html": [
       "<div>\n",
       "<style scoped>\n",
       "    .dataframe tbody tr th:only-of-type {\n",
       "        vertical-align: middle;\n",
       "    }\n",
       "\n",
       "    .dataframe tbody tr th {\n",
       "        vertical-align: top;\n",
       "    }\n",
       "\n",
       "    .dataframe thead th {\n",
       "        text-align: right;\n",
       "    }\n",
       "</style>\n",
       "<table border=\"1\" class=\"dataframe\">\n",
       "  <thead>\n",
       "    <tr style=\"text-align: right;\">\n",
       "      <th></th>\n",
       "      <th>TransactionID</th>\n",
       "      <th>CustomerID</th>\n",
       "      <th>CustomerDOB</th>\n",
       "      <th>CustGender</th>\n",
       "      <th>CustLocation</th>\n",
       "      <th>CustAccountBalance</th>\n",
       "      <th>TransactionDate</th>\n",
       "      <th>TransactionTime</th>\n",
       "      <th>TransactionAmount (INR)</th>\n",
       "    </tr>\n",
       "  </thead>\n",
       "  <tbody>\n",
       "    <tr>\n",
       "      <th>0</th>\n",
       "      <td>T1</td>\n",
       "      <td>C5841053</td>\n",
       "      <td>10/1/94</td>\n",
       "      <td>F</td>\n",
       "      <td>JAMSHEDPUR</td>\n",
       "      <td>17819.05</td>\n",
       "      <td>2/8/16</td>\n",
       "      <td>143207</td>\n",
       "      <td>25.0</td>\n",
       "    </tr>\n",
       "    <tr>\n",
       "      <th>1</th>\n",
       "      <td>T2</td>\n",
       "      <td>C2142763</td>\n",
       "      <td>4/4/57</td>\n",
       "      <td>M</td>\n",
       "      <td>JHAJJAR</td>\n",
       "      <td>2270.69</td>\n",
       "      <td>2/8/16</td>\n",
       "      <td>141858</td>\n",
       "      <td>27999.0</td>\n",
       "    </tr>\n",
       "    <tr>\n",
       "      <th>2</th>\n",
       "      <td>T3</td>\n",
       "      <td>C4417068</td>\n",
       "      <td>26/11/96</td>\n",
       "      <td>F</td>\n",
       "      <td>MUMBAI</td>\n",
       "      <td>17874.44</td>\n",
       "      <td>2/8/16</td>\n",
       "      <td>142712</td>\n",
       "      <td>459.0</td>\n",
       "    </tr>\n",
       "    <tr>\n",
       "      <th>3</th>\n",
       "      <td>T4</td>\n",
       "      <td>C5342380</td>\n",
       "      <td>14/9/73</td>\n",
       "      <td>F</td>\n",
       "      <td>MUMBAI</td>\n",
       "      <td>866503.21</td>\n",
       "      <td>2/8/16</td>\n",
       "      <td>142714</td>\n",
       "      <td>2060.0</td>\n",
       "    </tr>\n",
       "    <tr>\n",
       "      <th>4</th>\n",
       "      <td>T5</td>\n",
       "      <td>C9031234</td>\n",
       "      <td>24/3/88</td>\n",
       "      <td>F</td>\n",
       "      <td>NAVI MUMBAI</td>\n",
       "      <td>6714.43</td>\n",
       "      <td>2/8/16</td>\n",
       "      <td>181156</td>\n",
       "      <td>1762.5</td>\n",
       "    </tr>\n",
       "  </tbody>\n",
       "</table>\n",
       "</div>"
      ],
      "text/plain": [
       "  TransactionID CustomerID CustomerDOB CustGender CustLocation  \\\n",
       "0            T1   C5841053     10/1/94          F   JAMSHEDPUR   \n",
       "1            T2   C2142763      4/4/57          M      JHAJJAR   \n",
       "2            T3   C4417068    26/11/96          F       MUMBAI   \n",
       "3            T4   C5342380     14/9/73          F       MUMBAI   \n",
       "4            T5   C9031234     24/3/88          F  NAVI MUMBAI   \n",
       "\n",
       "   CustAccountBalance TransactionDate  TransactionTime  \\\n",
       "0            17819.05          2/8/16           143207   \n",
       "1             2270.69          2/8/16           141858   \n",
       "2            17874.44          2/8/16           142712   \n",
       "3           866503.21          2/8/16           142714   \n",
       "4             6714.43          2/8/16           181156   \n",
       "\n",
       "   TransactionAmount (INR)  \n",
       "0                     25.0  \n",
       "1                  27999.0  \n",
       "2                    459.0  \n",
       "3                   2060.0  \n",
       "4                   1762.5  "
      ]
     },
     "execution_count": 2,
     "metadata": {},
     "output_type": "execute_result"
    }
   ],
   "source": [
    "df.head()"
   ]
  },
  {
   "cell_type": "code",
   "execution_count": 3,
   "metadata": {
    "colab": {
     "base_uri": "https://localhost:8080/",
     "height": 224
    },
    "executionInfo": {
     "elapsed": 52,
     "status": "ok",
     "timestamp": 1759863108134,
     "user": {
      "displayName": "Godfrey Alexander",
      "userId": "16346979036691848608"
     },
     "user_tz": -60
    },
    "id": "tS-tFEm-8is1",
    "outputId": "52fc5670-4d72-4fe5-ff77-ef7b171db6e5"
   },
   "outputs": [
    {
     "data": {
      "text/html": [
       "<div>\n",
       "<style scoped>\n",
       "    .dataframe tbody tr th:only-of-type {\n",
       "        vertical-align: middle;\n",
       "    }\n",
       "\n",
       "    .dataframe tbody tr th {\n",
       "        vertical-align: top;\n",
       "    }\n",
       "\n",
       "    .dataframe thead th {\n",
       "        text-align: right;\n",
       "    }\n",
       "</style>\n",
       "<table border=\"1\" class=\"dataframe\">\n",
       "  <thead>\n",
       "    <tr style=\"text-align: right;\">\n",
       "      <th></th>\n",
       "      <th>TransactionID</th>\n",
       "      <th>CustomerID</th>\n",
       "      <th>CustomerDOB</th>\n",
       "      <th>CustGender</th>\n",
       "      <th>CustLocation</th>\n",
       "      <th>CustAccountBalance</th>\n",
       "      <th>TransactionDate</th>\n",
       "      <th>TransactionTime</th>\n",
       "      <th>TransactionAmount (INR)</th>\n",
       "    </tr>\n",
       "  </thead>\n",
       "  <tbody>\n",
       "    <tr>\n",
       "      <th>1041609</th>\n",
       "      <td>T1048563</td>\n",
       "      <td>C8020229</td>\n",
       "      <td>8/4/90</td>\n",
       "      <td>M</td>\n",
       "      <td>NEW DELHI</td>\n",
       "      <td>7635.19</td>\n",
       "      <td>18/9/16</td>\n",
       "      <td>184824</td>\n",
       "      <td>799.0</td>\n",
       "    </tr>\n",
       "    <tr>\n",
       "      <th>1041610</th>\n",
       "      <td>T1048564</td>\n",
       "      <td>C6459278</td>\n",
       "      <td>20/2/92</td>\n",
       "      <td>M</td>\n",
       "      <td>NASHIK</td>\n",
       "      <td>27311.42</td>\n",
       "      <td>18/9/16</td>\n",
       "      <td>183734</td>\n",
       "      <td>460.0</td>\n",
       "    </tr>\n",
       "    <tr>\n",
       "      <th>1041611</th>\n",
       "      <td>T1048565</td>\n",
       "      <td>C6412354</td>\n",
       "      <td>18/5/89</td>\n",
       "      <td>M</td>\n",
       "      <td>HYDERABAD</td>\n",
       "      <td>221757.06</td>\n",
       "      <td>18/9/16</td>\n",
       "      <td>183313</td>\n",
       "      <td>770.0</td>\n",
       "    </tr>\n",
       "    <tr>\n",
       "      <th>1041612</th>\n",
       "      <td>T1048566</td>\n",
       "      <td>C6420483</td>\n",
       "      <td>30/8/78</td>\n",
       "      <td>M</td>\n",
       "      <td>VISAKHAPATNAM</td>\n",
       "      <td>10117.87</td>\n",
       "      <td>18/9/16</td>\n",
       "      <td>184706</td>\n",
       "      <td>1000.0</td>\n",
       "    </tr>\n",
       "    <tr>\n",
       "      <th>1041613</th>\n",
       "      <td>T1048567</td>\n",
       "      <td>C8337524</td>\n",
       "      <td>5/3/84</td>\n",
       "      <td>M</td>\n",
       "      <td>PUNE</td>\n",
       "      <td>75734.42</td>\n",
       "      <td>18/9/16</td>\n",
       "      <td>181222</td>\n",
       "      <td>1166.0</td>\n",
       "    </tr>\n",
       "  </tbody>\n",
       "</table>\n",
       "</div>"
      ],
      "text/plain": [
       "        TransactionID CustomerID CustomerDOB CustGender   CustLocation  \\\n",
       "1041609      T1048563   C8020229      8/4/90          M      NEW DELHI   \n",
       "1041610      T1048564   C6459278     20/2/92          M         NASHIK   \n",
       "1041611      T1048565   C6412354     18/5/89          M      HYDERABAD   \n",
       "1041612      T1048566   C6420483     30/8/78          M  VISAKHAPATNAM   \n",
       "1041613      T1048567   C8337524      5/3/84          M           PUNE   \n",
       "\n",
       "         CustAccountBalance TransactionDate  TransactionTime  \\\n",
       "1041609             7635.19         18/9/16           184824   \n",
       "1041610            27311.42         18/9/16           183734   \n",
       "1041611           221757.06         18/9/16           183313   \n",
       "1041612            10117.87         18/9/16           184706   \n",
       "1041613            75734.42         18/9/16           181222   \n",
       "\n",
       "         TransactionAmount (INR)  \n",
       "1041609                    799.0  \n",
       "1041610                    460.0  \n",
       "1041611                    770.0  \n",
       "1041612                   1000.0  \n",
       "1041613                   1166.0  "
      ]
     },
     "execution_count": 3,
     "metadata": {},
     "output_type": "execute_result"
    }
   ],
   "source": [
    "df.tail()"
   ]
  },
  {
   "cell_type": "code",
   "execution_count": 4,
   "metadata": {
    "colab": {
     "base_uri": "https://localhost:8080/"
    },
    "executionInfo": {
     "elapsed": 19,
     "status": "ok",
     "timestamp": 1759863108185,
     "user": {
      "displayName": "Godfrey Alexander",
      "userId": "16346979036691848608"
     },
     "user_tz": -60
    },
    "id": "khNq-Sp58nMW",
    "outputId": "8e80399b-e402-4e60-c148-634677ac18f9"
   },
   "outputs": [
    {
     "data": {
      "text/plain": [
       "(1041614, 9)"
      ]
     },
     "execution_count": 4,
     "metadata": {},
     "output_type": "execute_result"
    }
   ],
   "source": [
    "df.shape"
   ]
  },
  {
   "cell_type": "code",
   "execution_count": 5,
   "metadata": {
    "colab": {
     "base_uri": "https://localhost:8080/"
    },
    "executionInfo": {
     "elapsed": 1100,
     "status": "ok",
     "timestamp": 1759863109289,
     "user": {
      "displayName": "Godfrey Alexander",
      "userId": "16346979036691848608"
     },
     "user_tz": -60
    },
    "id": "dpTkPdUPho0c",
    "outputId": "62a4fbfb-fc30-4fa9-8db6-a981aeb43f17"
   },
   "outputs": [
    {
     "name": "stdout",
     "output_type": "stream",
     "text": [
      "<class 'pandas.core.frame.DataFrame'>\n",
      "RangeIndex: 1041614 entries, 0 to 1041613\n",
      "Data columns (total 9 columns):\n",
      " #   Column                   Non-Null Count    Dtype  \n",
      "---  ------                   --------------    -----  \n",
      " 0   TransactionID            1041614 non-null  object \n",
      " 1   CustomerID               1041614 non-null  object \n",
      " 2   CustomerDOB              1041614 non-null  object \n",
      " 3   CustGender               1041614 non-null  object \n",
      " 4   CustLocation             1041614 non-null  object \n",
      " 5   CustAccountBalance       1041614 non-null  float64\n",
      " 6   TransactionDate          1041614 non-null  object \n",
      " 7   TransactionTime          1041614 non-null  int64  \n",
      " 8   TransactionAmount (INR)  1041614 non-null  float64\n",
      "dtypes: float64(2), int64(1), object(6)\n",
      "memory usage: 71.5+ MB\n"
     ]
    }
   ],
   "source": [
    "df.info()"
   ]
  },
  {
   "cell_type": "markdown",
   "metadata": {
    "id": "l9cKGVzQjSka"
   },
   "source": [
    "At a glance we can see that there are no missing values."
   ]
  },
  {
   "cell_type": "markdown",
   "metadata": {
    "id": "6iSQpuXMkMUc"
   },
   "source": [
    "#### Checking duplicates"
   ]
  },
  {
   "cell_type": "code",
   "execution_count": 6,
   "metadata": {
    "executionInfo": {
     "elapsed": 200,
     "status": "ok",
     "timestamp": 1759863109493,
     "user": {
      "displayName": "Godfrey Alexander",
      "userId": "16346979036691848608"
     },
     "user_tz": -60
    },
    "id": "wJYzVUoOhpAx"
   },
   "outputs": [],
   "source": [
    "df = df.drop('TransactionID', axis=1)"
   ]
  },
  {
   "cell_type": "code",
   "execution_count": 7,
   "metadata": {
    "colab": {
     "base_uri": "https://localhost:8080/"
    },
    "executionInfo": {
     "elapsed": 1942,
     "status": "ok",
     "timestamp": 1759863111443,
     "user": {
      "displayName": "Godfrey Alexander",
      "userId": "16346979036691848608"
     },
     "user_tz": -60
    },
    "id": "FXnyHeVLho98",
    "outputId": "e4c58372-0cab-45d7-faad-335b6ff8cb0d"
   },
   "outputs": [
    {
     "data": {
      "text/plain": [
       "np.int64(0)"
      ]
     },
     "execution_count": 7,
     "metadata": {},
     "output_type": "execute_result"
    }
   ],
   "source": [
    "df.duplicated().sum()"
   ]
  },
  {
   "cell_type": "markdown",
   "metadata": {
    "id": "PANpnR3wkP4M"
   },
   "source": [
    "There are no missing values, even after dropping the unique identifing column."
   ]
  },
  {
   "cell_type": "markdown",
   "metadata": {
    "id": "a6R9kqqDkoFu"
   },
   "source": [
    "### Correcting datatypes"
   ]
  },
  {
   "cell_type": "code",
   "execution_count": 8,
   "metadata": {
    "colab": {
     "base_uri": "https://localhost:8080/",
     "height": 335
    },
    "executionInfo": {
     "elapsed": 12,
     "status": "ok",
     "timestamp": 1759863111459,
     "user": {
      "displayName": "Godfrey Alexander",
      "userId": "16346979036691848608"
     },
     "user_tz": -60
    },
    "id": "eNIDsOuQhpDv",
    "outputId": "4bb965c3-6d2b-43a1-f883-b51cdad85216"
   },
   "outputs": [
    {
     "data": {
      "text/plain": [
       "CustomerID                  object\n",
       "CustomerDOB                 object\n",
       "CustGender                  object\n",
       "CustLocation                object\n",
       "CustAccountBalance         float64\n",
       "TransactionDate             object\n",
       "TransactionTime              int64\n",
       "TransactionAmount (INR)    float64\n",
       "dtype: object"
      ]
     },
     "execution_count": 8,
     "metadata": {},
     "output_type": "execute_result"
    }
   ],
   "source": [
    "df.dtypes"
   ]
  },
  {
   "cell_type": "code",
   "execution_count": 9,
   "metadata": {
    "colab": {
     "base_uri": "https://localhost:8080/"
    },
    "executionInfo": {
     "elapsed": 120,
     "status": "ok",
     "timestamp": 1759863111589,
     "user": {
      "displayName": "Godfrey Alexander",
      "userId": "16346979036691848608"
     },
     "user_tz": -60
    },
    "id": "01bQAK5QhpGN",
    "outputId": "100e5f37-5ab8-44bb-bded-65b0cea4af21"
   },
   "outputs": [
    {
     "name": "stderr",
     "output_type": "stream",
     "text": [
      "C:\\Users\\godfr\\AppData\\Local\\Temp\\ipykernel_8284\\617845747.py:1: UserWarning: Could not infer format, so each element will be parsed individually, falling back to `dateutil`. To ensure parsing is consistent and as-expected, please specify a format.\n",
      "  df['TransactionDate'] = pd.to_datetime(df['TransactionDate'])\n"
     ]
    }
   ],
   "source": [
    "df['TransactionDate'] = pd.to_datetime(df['TransactionDate'])"
   ]
  },
  {
   "cell_type": "code",
   "execution_count": 23,
   "metadata": {
    "colab": {
     "base_uri": "https://localhost:8080/"
    },
    "executionInfo": {
     "elapsed": 43915,
     "status": "ok",
     "timestamp": 1759863155504,
     "user": {
      "displayName": "Godfrey Alexander",
      "userId": "16346979036691848608"
     },
     "user_tz": -60
    },
    "id": "tHi33Ttso8L2",
    "outputId": "e617d962-1d57-4598-9086-8670dd13cc2e"
   },
   "outputs": [],
   "source": [
    "# Convert to datetime, assuming day/month/year format\n",
    "df['CustomerDOB'] = pd.to_datetime(df['CustomerDOB'])"
   ]
  },
  {
   "cell_type": "code",
   "execution_count": 11,
   "metadata": {
    "colab": {
     "base_uri": "https://localhost:8080/",
     "height": 335
    },
    "executionInfo": {
     "elapsed": 41,
     "status": "ok",
     "timestamp": 1759863155584,
     "user": {
      "displayName": "Godfrey Alexander",
      "userId": "16346979036691848608"
     },
     "user_tz": -60
    },
    "id": "MtX46TqJ6Mrn",
    "outputId": "774a4743-b034-4b1d-b617-f7bbd7dea733"
   },
   "outputs": [
    {
     "data": {
      "text/plain": [
       "CustomerID                            C1376215\n",
       "CustomerDOB                1800-01-01 00:00:00\n",
       "CustGender                                   M\n",
       "CustLocation                            MUMBAI\n",
       "CustAccountBalance                    77495.15\n",
       "TransactionDate            2016-01-08 00:00:00\n",
       "TransactionTime                         124727\n",
       "TransactionAmount (INR)                1423.11\n",
       "Name: 16, dtype: object"
      ]
     },
     "execution_count": 11,
     "metadata": {},
     "output_type": "execute_result"
    }
   ],
   "source": [
    "df.iloc[16]"
   ]
  },
  {
   "cell_type": "code",
   "execution_count": 12,
   "metadata": {
    "colab": {
     "base_uri": "https://localhost:8080/",
     "height": 304
    },
    "executionInfo": {
     "elapsed": 27,
     "status": "ok",
     "timestamp": 1759863155603,
     "user": {
      "displayName": "Godfrey Alexander",
      "userId": "16346979036691848608"
     },
     "user_tz": -60
    },
    "id": "cZHUH-vjhpJE",
    "outputId": "c4c7619d-836b-4bee-fef1-33092462b973"
   },
   "outputs": [
    {
     "data": {
      "text/plain": [
       "count                          1041614\n",
       "mean     1985-07-03 08:17:32.308436800\n",
       "min                1800-01-01 00:00:00\n",
       "25%                1983-12-08 00:00:00\n",
       "50%                1988-12-13 00:00:00\n",
       "75%                1992-08-22 00:00:00\n",
       "max                2074-12-31 00:00:00\n",
       "Name: CustomerDOB, dtype: object"
      ]
     },
     "execution_count": 12,
     "metadata": {},
     "output_type": "execute_result"
    }
   ],
   "source": [
    "df['CustomerDOB'].describe()"
   ]
  },
  {
   "cell_type": "markdown",
   "metadata": {
    "id": "dQMTD1c72VzD"
   },
   "source": [
    "There appears to be a few invalid dates in the CustomerDOB column. The minimum date is 01/01/1800 which make some of your customers over 200 years olds.\n",
    "\n",
    "We also have a maximum date of 31/12/2074 in our dataset when the last transaction date is 09/12/2016. Thus some of our customers have transacted with us before their were born. This is not logically so we are going to investigate and handle these inconsisent dates before proceeding."
   ]
  },
  {
   "cell_type": "markdown",
   "metadata": {
    "id": "XNPtr5VW6ulJ"
   },
   "source": [
    "we would first start by filtering out the dates lower than the 1st quartile('1983-01-01'). This date was choosen becasue it is a valid date and it can be used as a starting point to trace the logical dates."
   ]
  },
  {
   "cell_type": "code",
   "execution_count": 13,
   "metadata": {
    "colab": {
     "base_uri": "https://localhost:8080/",
     "height": 424
    },
    "executionInfo": {
     "elapsed": 59,
     "status": "ok",
     "timestamp": 1759863155666,
     "user": {
      "displayName": "Godfrey Alexander",
      "userId": "16346979036691848608"
     },
     "user_tz": -60
    },
    "id": "0nedT1AB5Ni8",
    "outputId": "9a452978-1308-4653-c03d-276bf3300eb1"
   },
   "outputs": [
    {
     "data": {
      "text/html": [
       "<div>\n",
       "<style scoped>\n",
       "    .dataframe tbody tr th:only-of-type {\n",
       "        vertical-align: middle;\n",
       "    }\n",
       "\n",
       "    .dataframe tbody tr th {\n",
       "        vertical-align: top;\n",
       "    }\n",
       "\n",
       "    .dataframe thead th {\n",
       "        text-align: right;\n",
       "    }\n",
       "</style>\n",
       "<table border=\"1\" class=\"dataframe\">\n",
       "  <thead>\n",
       "    <tr style=\"text-align: right;\">\n",
       "      <th></th>\n",
       "      <th>CustomerID</th>\n",
       "      <th>CustomerDOB</th>\n",
       "      <th>CustGender</th>\n",
       "      <th>CustLocation</th>\n",
       "      <th>CustAccountBalance</th>\n",
       "      <th>TransactionDate</th>\n",
       "      <th>TransactionTime</th>\n",
       "      <th>TransactionAmount (INR)</th>\n",
       "    </tr>\n",
       "  </thead>\n",
       "  <tbody>\n",
       "    <tr>\n",
       "      <th>7</th>\n",
       "      <td>C1220223</td>\n",
       "      <td>1982-01-27</td>\n",
       "      <td>M</td>\n",
       "      <td>MUMBAI</td>\n",
       "      <td>95075.54</td>\n",
       "      <td>2016-02-08</td>\n",
       "      <td>170537</td>\n",
       "      <td>148.00</td>\n",
       "    </tr>\n",
       "    <tr>\n",
       "      <th>10</th>\n",
       "      <td>C5430833</td>\n",
       "      <td>1982-07-22</td>\n",
       "      <td>M</td>\n",
       "      <td>MOHALI</td>\n",
       "      <td>48429.49</td>\n",
       "      <td>2016-02-08</td>\n",
       "      <td>204133</td>\n",
       "      <td>259.00</td>\n",
       "    </tr>\n",
       "    <tr>\n",
       "      <th>12</th>\n",
       "      <td>C6339347</td>\n",
       "      <td>1978-06-13</td>\n",
       "      <td>M</td>\n",
       "      <td>AHMEDABAD</td>\n",
       "      <td>32274.78</td>\n",
       "      <td>2016-02-08</td>\n",
       "      <td>203834</td>\n",
       "      <td>12300.00</td>\n",
       "    </tr>\n",
       "    <tr>\n",
       "      <th>14</th>\n",
       "      <td>C7917151</td>\n",
       "      <td>1978-03-24</td>\n",
       "      <td>M</td>\n",
       "      <td>PUNE</td>\n",
       "      <td>10100.84</td>\n",
       "      <td>2016-01-08</td>\n",
       "      <td>82253</td>\n",
       "      <td>338.00</td>\n",
       "    </tr>\n",
       "    <tr>\n",
       "      <th>16</th>\n",
       "      <td>C1376215</td>\n",
       "      <td>1800-01-01</td>\n",
       "      <td>M</td>\n",
       "      <td>MUMBAI</td>\n",
       "      <td>77495.15</td>\n",
       "      <td>2016-01-08</td>\n",
       "      <td>124727</td>\n",
       "      <td>1423.11</td>\n",
       "    </tr>\n",
       "    <tr>\n",
       "      <th>...</th>\n",
       "      <td>...</td>\n",
       "      <td>...</td>\n",
       "      <td>...</td>\n",
       "      <td>...</td>\n",
       "      <td>...</td>\n",
       "      <td>...</td>\n",
       "      <td>...</td>\n",
       "      <td>...</td>\n",
       "    </tr>\n",
       "    <tr>\n",
       "      <th>1041595</th>\n",
       "      <td>C2153578</td>\n",
       "      <td>1981-09-03</td>\n",
       "      <td>M</td>\n",
       "      <td>BANGALORE</td>\n",
       "      <td>11247.35</td>\n",
       "      <td>2016-09-18</td>\n",
       "      <td>184225</td>\n",
       "      <td>9363.00</td>\n",
       "    </tr>\n",
       "    <tr>\n",
       "      <th>1041600</th>\n",
       "      <td>C2210842</td>\n",
       "      <td>1981-07-22</td>\n",
       "      <td>M</td>\n",
       "      <td>DELHI</td>\n",
       "      <td>28498.26</td>\n",
       "      <td>2016-09-18</td>\n",
       "      <td>185151</td>\n",
       "      <td>806.00</td>\n",
       "    </tr>\n",
       "    <tr>\n",
       "      <th>1041602</th>\n",
       "      <td>C2122724</td>\n",
       "      <td>1978-03-20</td>\n",
       "      <td>M</td>\n",
       "      <td>FARIDABAD</td>\n",
       "      <td>436598.03</td>\n",
       "      <td>2016-09-18</td>\n",
       "      <td>185337</td>\n",
       "      <td>5259.00</td>\n",
       "    </tr>\n",
       "    <tr>\n",
       "      <th>1041607</th>\n",
       "      <td>C5028150</td>\n",
       "      <td>1980-05-24</td>\n",
       "      <td>M</td>\n",
       "      <td>PUNE</td>\n",
       "      <td>464.87</td>\n",
       "      <td>2016-09-18</td>\n",
       "      <td>184632</td>\n",
       "      <td>3000.00</td>\n",
       "    </tr>\n",
       "    <tr>\n",
       "      <th>1041612</th>\n",
       "      <td>C6420483</td>\n",
       "      <td>1978-08-30</td>\n",
       "      <td>M</td>\n",
       "      <td>VISAKHAPATNAM</td>\n",
       "      <td>10117.87</td>\n",
       "      <td>2016-09-18</td>\n",
       "      <td>184706</td>\n",
       "      <td>1000.00</td>\n",
       "    </tr>\n",
       "  </tbody>\n",
       "</table>\n",
       "<p>260332 rows × 8 columns</p>\n",
       "</div>"
      ],
      "text/plain": [
       "        CustomerID CustomerDOB CustGender   CustLocation  CustAccountBalance  \\\n",
       "7         C1220223  1982-01-27          M         MUMBAI            95075.54   \n",
       "10        C5430833  1982-07-22          M         MOHALI            48429.49   \n",
       "12        C6339347  1978-06-13          M      AHMEDABAD            32274.78   \n",
       "14        C7917151  1978-03-24          M           PUNE            10100.84   \n",
       "16        C1376215  1800-01-01          M         MUMBAI            77495.15   \n",
       "...            ...         ...        ...            ...                 ...   \n",
       "1041595   C2153578  1981-09-03          M      BANGALORE            11247.35   \n",
       "1041600   C2210842  1981-07-22          M          DELHI            28498.26   \n",
       "1041602   C2122724  1978-03-20          M      FARIDABAD           436598.03   \n",
       "1041607   C5028150  1980-05-24          M           PUNE              464.87   \n",
       "1041612   C6420483  1978-08-30          M  VISAKHAPATNAM            10117.87   \n",
       "\n",
       "        TransactionDate  TransactionTime  TransactionAmount (INR)  \n",
       "7            2016-02-08           170537                   148.00  \n",
       "10           2016-02-08           204133                   259.00  \n",
       "12           2016-02-08           203834                 12300.00  \n",
       "14           2016-01-08            82253                   338.00  \n",
       "16           2016-01-08           124727                  1423.11  \n",
       "...                 ...              ...                      ...  \n",
       "1041595      2016-09-18           184225                  9363.00  \n",
       "1041600      2016-09-18           185151                   806.00  \n",
       "1041602      2016-09-18           185337                  5259.00  \n",
       "1041607      2016-09-18           184632                  3000.00  \n",
       "1041612      2016-09-18           184706                  1000.00  \n",
       "\n",
       "[260332 rows x 8 columns]"
      ]
     },
     "execution_count": 13,
     "metadata": {},
     "output_type": "execute_result"
    }
   ],
   "source": [
    "# filter out all dates lower than '1983-01-01'\n",
    "df[df['CustomerDOB'] < df['CustomerDOB'].quantile(0.25)]"
   ]
  },
  {
   "cell_type": "markdown",
   "metadata": {
    "id": "9NqOyYas7RXY"
   },
   "source": [
    "We can see from glancing through the that we have customers were born in the year '1978' in the data. The year '1970' would therefore be used as our next investigative point."
   ]
  },
  {
   "cell_type": "code",
   "execution_count": 14,
   "metadata": {
    "colab": {
     "base_uri": "https://localhost:8080/",
     "height": 458
    },
    "executionInfo": {
     "elapsed": 95,
     "status": "ok",
     "timestamp": 1759863155766,
     "user": {
      "displayName": "Godfrey Alexander",
      "userId": "16346979036691848608"
     },
     "user_tz": -60
    },
    "id": "kOASJDOM33_Y",
    "outputId": "11a66d2e-155d-4487-b9ce-3294fd420898"
   },
   "outputs": [
    {
     "data": {
      "text/html": [
       "<div>\n",
       "<style scoped>\n",
       "    .dataframe tbody tr th:only-of-type {\n",
       "        vertical-align: middle;\n",
       "    }\n",
       "\n",
       "    .dataframe tbody tr th {\n",
       "        vertical-align: top;\n",
       "    }\n",
       "\n",
       "    .dataframe thead th {\n",
       "        text-align: right;\n",
       "    }\n",
       "</style>\n",
       "<table border=\"1\" class=\"dataframe\">\n",
       "  <thead>\n",
       "    <tr style=\"text-align: right;\">\n",
       "      <th></th>\n",
       "      <th>CustomerID</th>\n",
       "      <th>CustomerDOB</th>\n",
       "      <th>CustGender</th>\n",
       "      <th>CustLocation</th>\n",
       "      <th>CustAccountBalance</th>\n",
       "      <th>TransactionDate</th>\n",
       "      <th>TransactionTime</th>\n",
       "      <th>TransactionAmount (INR)</th>\n",
       "    </tr>\n",
       "  </thead>\n",
       "  <tbody>\n",
       "    <tr>\n",
       "      <th>16</th>\n",
       "      <td>C1376215</td>\n",
       "      <td>1800-01-01</td>\n",
       "      <td>M</td>\n",
       "      <td>MUMBAI</td>\n",
       "      <td>77495.15</td>\n",
       "      <td>2016-01-08</td>\n",
       "      <td>124727</td>\n",
       "      <td>1423.11</td>\n",
       "    </tr>\n",
       "    <tr>\n",
       "      <th>22</th>\n",
       "      <td>C7018081</td>\n",
       "      <td>1800-01-01</td>\n",
       "      <td>M</td>\n",
       "      <td>WAYS PANCHKUVA AHMEDABAD</td>\n",
       "      <td>143.07</td>\n",
       "      <td>2016-03-08</td>\n",
       "      <td>104718</td>\n",
       "      <td>110.00</td>\n",
       "    </tr>\n",
       "    <tr>\n",
       "      <th>28</th>\n",
       "      <td>C7935438</td>\n",
       "      <td>1800-01-01</td>\n",
       "      <td>M</td>\n",
       "      <td>MOHALI</td>\n",
       "      <td>969436.12</td>\n",
       "      <td>2016-03-08</td>\n",
       "      <td>183634</td>\n",
       "      <td>36.90</td>\n",
       "    </tr>\n",
       "    <tr>\n",
       "      <th>34</th>\n",
       "      <td>C1211387</td>\n",
       "      <td>1800-01-01</td>\n",
       "      <td>M</td>\n",
       "      <td>AHMEDABAD</td>\n",
       "      <td>11791.25</td>\n",
       "      <td>2016-03-08</td>\n",
       "      <td>125915</td>\n",
       "      <td>1075.00</td>\n",
       "    </tr>\n",
       "    <tr>\n",
       "      <th>150</th>\n",
       "      <td>C3334638</td>\n",
       "      <td>1800-01-01</td>\n",
       "      <td>M</td>\n",
       "      <td>PUNE</td>\n",
       "      <td>700.00</td>\n",
       "      <td>2016-09-08</td>\n",
       "      <td>24912</td>\n",
       "      <td>1500.00</td>\n",
       "    </tr>\n",
       "    <tr>\n",
       "      <th>...</th>\n",
       "      <td>...</td>\n",
       "      <td>...</td>\n",
       "      <td>...</td>\n",
       "      <td>...</td>\n",
       "      <td>...</td>\n",
       "      <td>...</td>\n",
       "      <td>...</td>\n",
       "      <td>...</td>\n",
       "    </tr>\n",
       "    <tr>\n",
       "      <th>1041491</th>\n",
       "      <td>C7261226</td>\n",
       "      <td>1800-01-01</td>\n",
       "      <td>M</td>\n",
       "      <td>BHILAI</td>\n",
       "      <td>1393.33</td>\n",
       "      <td>2016-09-18</td>\n",
       "      <td>102427</td>\n",
       "      <td>200.00</td>\n",
       "    </tr>\n",
       "    <tr>\n",
       "      <th>1041500</th>\n",
       "      <td>C3813481</td>\n",
       "      <td>1800-01-01</td>\n",
       "      <td>M</td>\n",
       "      <td>NEW DELHI</td>\n",
       "      <td>984605.24</td>\n",
       "      <td>2016-09-18</td>\n",
       "      <td>84644</td>\n",
       "      <td>219.00</td>\n",
       "    </tr>\n",
       "    <tr>\n",
       "      <th>1041578</th>\n",
       "      <td>C6937679</td>\n",
       "      <td>1800-01-01</td>\n",
       "      <td>M</td>\n",
       "      <td>NEW DELHI</td>\n",
       "      <td>50698.90</td>\n",
       "      <td>2016-09-18</td>\n",
       "      <td>184319</td>\n",
       "      <td>598.86</td>\n",
       "    </tr>\n",
       "    <tr>\n",
       "      <th>1041580</th>\n",
       "      <td>C7431884</td>\n",
       "      <td>1800-01-01</td>\n",
       "      <td>M</td>\n",
       "      <td>MANDIR DHANBAD</td>\n",
       "      <td>53771.64</td>\n",
       "      <td>2016-09-18</td>\n",
       "      <td>184049</td>\n",
       "      <td>520.00</td>\n",
       "    </tr>\n",
       "    <tr>\n",
       "      <th>1041587</th>\n",
       "      <td>C1528025</td>\n",
       "      <td>1800-01-01</td>\n",
       "      <td>M</td>\n",
       "      <td>MUMBAI</td>\n",
       "      <td>230894.59</td>\n",
       "      <td>2016-09-18</td>\n",
       "      <td>182331</td>\n",
       "      <td>290.00</td>\n",
       "    </tr>\n",
       "  </tbody>\n",
       "</table>\n",
       "<p>56292 rows × 8 columns</p>\n",
       "</div>"
      ],
      "text/plain": [
       "        CustomerID CustomerDOB CustGender              CustLocation  \\\n",
       "16        C1376215  1800-01-01          M                    MUMBAI   \n",
       "22        C7018081  1800-01-01          M  WAYS PANCHKUVA AHMEDABAD   \n",
       "28        C7935438  1800-01-01          M                    MOHALI   \n",
       "34        C1211387  1800-01-01          M                 AHMEDABAD   \n",
       "150       C3334638  1800-01-01          M                      PUNE   \n",
       "...            ...         ...        ...                       ...   \n",
       "1041491   C7261226  1800-01-01          M                    BHILAI   \n",
       "1041500   C3813481  1800-01-01          M                 NEW DELHI   \n",
       "1041578   C6937679  1800-01-01          M                 NEW DELHI   \n",
       "1041580   C7431884  1800-01-01          M            MANDIR DHANBAD   \n",
       "1041587   C1528025  1800-01-01          M                    MUMBAI   \n",
       "\n",
       "         CustAccountBalance TransactionDate  TransactionTime  \\\n",
       "16                 77495.15      2016-01-08           124727   \n",
       "22                   143.07      2016-03-08           104718   \n",
       "28                969436.12      2016-03-08           183634   \n",
       "34                 11791.25      2016-03-08           125915   \n",
       "150                  700.00      2016-09-08            24912   \n",
       "...                     ...             ...              ...   \n",
       "1041491             1393.33      2016-09-18           102427   \n",
       "1041500           984605.24      2016-09-18            84644   \n",
       "1041578            50698.90      2016-09-18           184319   \n",
       "1041580            53771.64      2016-09-18           184049   \n",
       "1041587           230894.59      2016-09-18           182331   \n",
       "\n",
       "         TransactionAmount (INR)  \n",
       "16                       1423.11  \n",
       "22                        110.00  \n",
       "28                         36.90  \n",
       "34                       1075.00  \n",
       "150                      1500.00  \n",
       "...                          ...  \n",
       "1041491                   200.00  \n",
       "1041500                   219.00  \n",
       "1041578                   598.86  \n",
       "1041580                   520.00  \n",
       "1041587                   290.00  \n",
       "\n",
       "[56292 rows x 8 columns]"
      ]
     },
     "execution_count": 14,
     "metadata": {},
     "output_type": "execute_result"
    }
   ],
   "source": [
    "invalid_dates = df[df['CustomerDOB'] < pd.to_datetime('1970-01-01')]\n",
    "invalid_dates"
   ]
  },
  {
   "cell_type": "markdown",
   "metadata": {
    "id": "LSZH2STo83Dc"
   },
   "source": [
    "The above dataset now has '1800-01-01' in this customerDOB column. Due to the fact that it is a single date that runs throughout the entire dataset, it maybe a system error.\n",
    "\n",
    "Let us find out the number of rows and the proportion of our data that has these erroroeus dates."
   ]
  },
  {
   "cell_type": "code",
   "execution_count": 15,
   "metadata": {
    "colab": {
     "base_uri": "https://localhost:8080/"
    },
    "executionInfo": {
     "elapsed": 19,
     "status": "ok",
     "timestamp": 1759863155789,
     "user": {
      "displayName": "Godfrey Alexander",
      "userId": "16346979036691848608"
     },
     "user_tz": -60
    },
    "id": "KLjSjJmP8BJe",
    "outputId": "e145b051-59ef-426e-cbbd-715e1fddb95c"
   },
   "outputs": [
    {
     "name": "stdout",
     "output_type": "stream",
     "text": [
      "0.05404305241673019\n",
      "5.404305241673019\n"
     ]
    }
   ],
   "source": [
    "# print(display(invalid_dates['CustomerDOB'].value_counts()))\n",
    "\n",
    "print(len(invalid_dates)/len(df))\n",
    "\n",
    "print(len(invalid_dates)/len(df)*100)"
   ]
  },
  {
   "cell_type": "markdown",
   "metadata": {
    "id": "fJShWt899n7Z"
   },
   "source": [
    "We have a total of 56,292 rows in our dataset containing these erroroeus dates. This amounts to 5.4% of the dataset.\n",
    "\n",
    "We would drop these rows from our dataset because it would be impossible to correct them."
   ]
  },
  {
   "cell_type": "code",
   "execution_count": 16,
   "metadata": {
    "executionInfo": {
     "elapsed": 153,
     "status": "ok",
     "timestamp": 1759863155945,
     "user": {
      "displayName": "Godfrey Alexander",
      "userId": "16346979036691848608"
     },
     "user_tz": -60
    },
    "id": "agO1wbbW1wAy"
   },
   "outputs": [],
   "source": [
    "df = df.drop(invalid_dates.index, axis=0)"
   ]
  },
  {
   "cell_type": "markdown",
   "metadata": {
    "id": "rnp6IDTF2XZs"
   },
   "source": []
  },
  {
   "cell_type": "code",
   "execution_count": null,
   "metadata": {
    "executionInfo": {
     "elapsed": 3,
     "status": "ok",
     "timestamp": 1759863155958,
     "user": {
      "displayName": "Godfrey Alexander",
      "userId": "16346979036691848608"
     },
     "user_tz": -60
    },
    "id": "U2qGnlRu1l-P"
   },
   "outputs": [],
   "source": []
  },
  {
   "cell_type": "code",
   "execution_count": 17,
   "metadata": {
    "colab": {
     "base_uri": "https://localhost:8080/",
     "height": 206
    },
    "executionInfo": {
     "elapsed": 10317,
     "status": "ok",
     "timestamp": 1759863166280,
     "user": {
      "displayName": "Godfrey Alexander",
      "userId": "16346979036691848608"
     },
     "user_tz": -60
    },
    "id": "6cBxcfafAFhX",
    "outputId": "0ed88d63-faa3-4338-e488-540ddb582cd1"
   },
   "outputs": [
    {
     "data": {
      "text/html": [
       "<div>\n",
       "<style scoped>\n",
       "    .dataframe tbody tr th:only-of-type {\n",
       "        vertical-align: middle;\n",
       "    }\n",
       "\n",
       "    .dataframe tbody tr th {\n",
       "        vertical-align: top;\n",
       "    }\n",
       "\n",
       "    .dataframe thead th {\n",
       "        text-align: right;\n",
       "    }\n",
       "</style>\n",
       "<table border=\"1\" class=\"dataframe\">\n",
       "  <thead>\n",
       "    <tr style=\"text-align: right;\">\n",
       "      <th></th>\n",
       "      <th>CustomerID</th>\n",
       "      <th>CustomerDOB</th>\n",
       "      <th>CustGender</th>\n",
       "      <th>CustLocation</th>\n",
       "      <th>CustAccountBalance</th>\n",
       "      <th>TransactionDate</th>\n",
       "      <th>TransactionTime</th>\n",
       "      <th>TransactionAmount (INR)</th>\n",
       "    </tr>\n",
       "  </thead>\n",
       "  <tbody>\n",
       "    <tr>\n",
       "      <th>0</th>\n",
       "      <td>C5841053</td>\n",
       "      <td>1994-10-01</td>\n",
       "      <td>F</td>\n",
       "      <td>JAMSHEDPUR</td>\n",
       "      <td>17819.05</td>\n",
       "      <td>2016-02-08</td>\n",
       "      <td>143207</td>\n",
       "      <td>25.0</td>\n",
       "    </tr>\n",
       "    <tr>\n",
       "      <th>1</th>\n",
       "      <td>C2142763</td>\n",
       "      <td>1957-04-04</td>\n",
       "      <td>M</td>\n",
       "      <td>JHAJJAR</td>\n",
       "      <td>2270.69</td>\n",
       "      <td>2016-02-08</td>\n",
       "      <td>141858</td>\n",
       "      <td>27999.0</td>\n",
       "    </tr>\n",
       "    <tr>\n",
       "      <th>2</th>\n",
       "      <td>C4417068</td>\n",
       "      <td>1996-11-26</td>\n",
       "      <td>F</td>\n",
       "      <td>MUMBAI</td>\n",
       "      <td>17874.44</td>\n",
       "      <td>2016-02-08</td>\n",
       "      <td>142712</td>\n",
       "      <td>459.0</td>\n",
       "    </tr>\n",
       "    <tr>\n",
       "      <th>3</th>\n",
       "      <td>C5342380</td>\n",
       "      <td>1973-09-14</td>\n",
       "      <td>F</td>\n",
       "      <td>MUMBAI</td>\n",
       "      <td>866503.21</td>\n",
       "      <td>2016-02-08</td>\n",
       "      <td>142714</td>\n",
       "      <td>2060.0</td>\n",
       "    </tr>\n",
       "    <tr>\n",
       "      <th>4</th>\n",
       "      <td>C9031234</td>\n",
       "      <td>1988-03-24</td>\n",
       "      <td>F</td>\n",
       "      <td>NAVI MUMBAI</td>\n",
       "      <td>6714.43</td>\n",
       "      <td>2016-02-08</td>\n",
       "      <td>181156</td>\n",
       "      <td>1762.5</td>\n",
       "    </tr>\n",
       "  </tbody>\n",
       "</table>\n",
       "</div>"
      ],
      "text/plain": [
       "  CustomerID CustomerDOB CustGender CustLocation  CustAccountBalance  \\\n",
       "0   C5841053  1994-10-01          F   JAMSHEDPUR            17819.05   \n",
       "1   C2142763  1957-04-04          M      JHAJJAR             2270.69   \n",
       "2   C4417068  1996-11-26          F       MUMBAI            17874.44   \n",
       "3   C5342380  1973-09-14          F       MUMBAI           866503.21   \n",
       "4   C9031234  1988-03-24          F  NAVI MUMBAI             6714.43   \n",
       "\n",
       "  TransactionDate  TransactionTime  TransactionAmount (INR)  \n",
       "0      2016-02-08           143207                     25.0  \n",
       "1      2016-02-08           141858                  27999.0  \n",
       "2      2016-02-08           142712                    459.0  \n",
       "3      2016-02-08           142714                   2060.0  \n",
       "4      2016-02-08           181156                   1762.5  "
      ]
     },
     "execution_count": 17,
     "metadata": {},
     "output_type": "execute_result"
    }
   ],
   "source": [
    "# Format back to string with 4-digit year\n",
    "df['CustomerDOB'] = df['CustomerDOB'].dt.strftime('%d/%m/%Y')\n",
    "\n",
    "def convert_year(date_str):\n",
    "  # split the date into 3 items and map each item to the variables\n",
    "  day, month, year = map(str, date_str.split('/'))\n",
    "  # Getting the last 2 digits from the year\n",
    "  last_2 = int(year[2:])\n",
    "  # if the last to digits is less than 20 than the person was born with 2000 - 2020\n",
    "  if last_2 <= 20:\n",
    "    year = 2000 + last_2\n",
    "  # if the last to digits is greater than 20 than the person was born before 2000\n",
    "  else:\n",
    "    year = 1900 + last_2\n",
    "  # return the date as a single string to represent the date\n",
    "  return f\"{day}/{month}/{year}\"\n",
    "\n",
    "df['CustomerDOB'] = df['CustomerDOB'].apply(convert_year)\n",
    "\n",
    "# Convert the date as string to datetime object\n",
    "df['CustomerDOB'] = pd.to_datetime(df['CustomerDOB'], format=\"%d/%m/%Y\")\n",
    "\n",
    "df.head()"
   ]
  },
  {
   "cell_type": "code",
   "execution_count": 18,
   "metadata": {
    "colab": {
     "base_uri": "https://localhost:8080/"
    },
    "executionInfo": {
     "elapsed": 48,
     "status": "ok",
     "timestamp": 1759863166281,
     "user": {
      "displayName": "Godfrey Alexander",
      "userId": "16346979036691848608"
     },
     "user_tz": -60
    },
    "id": "lNaLXA45KPFs",
    "outputId": "58a32baf-76f0-4107-9246-c46055f7fd69"
   },
   "outputs": [
    {
     "data": {
      "text/plain": [
       "(985322, 8)"
      ]
     },
     "execution_count": 18,
     "metadata": {},
     "output_type": "execute_result"
    }
   ],
   "source": [
    "df.shape"
   ]
  },
  {
   "cell_type": "code",
   "execution_count": 19,
   "metadata": {
    "colab": {
     "base_uri": "https://localhost:8080/"
    },
    "executionInfo": {
     "elapsed": 24,
     "status": "ok",
     "timestamp": 1759863166283,
     "user": {
      "displayName": "Godfrey Alexander",
      "userId": "16346979036691848608"
     },
     "user_tz": -60
    },
    "id": "ZwRZFrCU4hAa",
    "outputId": "2e8d7800-d765-4ee8-f848-bc545c16c739"
   },
   "outputs": [
    {
     "data": {
      "text/plain": [
       "Timestamp('2025-10-11 07:38:39.684884')"
      ]
     },
     "execution_count": 19,
     "metadata": {},
     "output_type": "execute_result"
    }
   ],
   "source": [
    "today = pd.to_datetime('today')\n",
    "today"
   ]
  },
  {
   "cell_type": "code",
   "execution_count": 20,
   "metadata": {
    "colab": {
     "base_uri": "https://localhost:8080/",
     "height": 206
    },
    "executionInfo": {
     "elapsed": 49,
     "status": "ok",
     "timestamp": 1759863166326,
     "user": {
      "displayName": "Godfrey Alexander",
      "userId": "16346979036691848608"
     },
     "user_tz": -60
    },
    "id": "3dG_iZ8i1mBI",
    "outputId": "262022fb-4f1d-4f22-9177-4d83b4b910d9"
   },
   "outputs": [
    {
     "data": {
      "text/html": [
       "<div>\n",
       "<style scoped>\n",
       "    .dataframe tbody tr th:only-of-type {\n",
       "        vertical-align: middle;\n",
       "    }\n",
       "\n",
       "    .dataframe tbody tr th {\n",
       "        vertical-align: top;\n",
       "    }\n",
       "\n",
       "    .dataframe thead th {\n",
       "        text-align: right;\n",
       "    }\n",
       "</style>\n",
       "<table border=\"1\" class=\"dataframe\">\n",
       "  <thead>\n",
       "    <tr style=\"text-align: right;\">\n",
       "      <th></th>\n",
       "      <th>CustomerID</th>\n",
       "      <th>CustomerDOB</th>\n",
       "      <th>CustGender</th>\n",
       "      <th>CustLocation</th>\n",
       "      <th>CustAccountBalance</th>\n",
       "      <th>TransactionDate</th>\n",
       "      <th>TransactionTime</th>\n",
       "      <th>TransactionAmount (INR)</th>\n",
       "      <th>CustomerAge</th>\n",
       "    </tr>\n",
       "  </thead>\n",
       "  <tbody>\n",
       "    <tr>\n",
       "      <th>0</th>\n",
       "      <td>C5841053</td>\n",
       "      <td>1994-10-01</td>\n",
       "      <td>F</td>\n",
       "      <td>JAMSHEDPUR</td>\n",
       "      <td>17819.05</td>\n",
       "      <td>2016-02-08</td>\n",
       "      <td>143207</td>\n",
       "      <td>25.0</td>\n",
       "      <td>31</td>\n",
       "    </tr>\n",
       "    <tr>\n",
       "      <th>1</th>\n",
       "      <td>C2142763</td>\n",
       "      <td>1957-04-04</td>\n",
       "      <td>M</td>\n",
       "      <td>JHAJJAR</td>\n",
       "      <td>2270.69</td>\n",
       "      <td>2016-02-08</td>\n",
       "      <td>141858</td>\n",
       "      <td>27999.0</td>\n",
       "      <td>68</td>\n",
       "    </tr>\n",
       "    <tr>\n",
       "      <th>2</th>\n",
       "      <td>C4417068</td>\n",
       "      <td>1996-11-26</td>\n",
       "      <td>F</td>\n",
       "      <td>MUMBAI</td>\n",
       "      <td>17874.44</td>\n",
       "      <td>2016-02-08</td>\n",
       "      <td>142712</td>\n",
       "      <td>459.0</td>\n",
       "      <td>28</td>\n",
       "    </tr>\n",
       "    <tr>\n",
       "      <th>3</th>\n",
       "      <td>C5342380</td>\n",
       "      <td>1973-09-14</td>\n",
       "      <td>F</td>\n",
       "      <td>MUMBAI</td>\n",
       "      <td>866503.21</td>\n",
       "      <td>2016-02-08</td>\n",
       "      <td>142714</td>\n",
       "      <td>2060.0</td>\n",
       "      <td>52</td>\n",
       "    </tr>\n",
       "    <tr>\n",
       "      <th>4</th>\n",
       "      <td>C9031234</td>\n",
       "      <td>1988-03-24</td>\n",
       "      <td>F</td>\n",
       "      <td>NAVI MUMBAI</td>\n",
       "      <td>6714.43</td>\n",
       "      <td>2016-02-08</td>\n",
       "      <td>181156</td>\n",
       "      <td>1762.5</td>\n",
       "      <td>37</td>\n",
       "    </tr>\n",
       "  </tbody>\n",
       "</table>\n",
       "</div>"
      ],
      "text/plain": [
       "  CustomerID CustomerDOB CustGender CustLocation  CustAccountBalance  \\\n",
       "0   C5841053  1994-10-01          F   JAMSHEDPUR            17819.05   \n",
       "1   C2142763  1957-04-04          M      JHAJJAR             2270.69   \n",
       "2   C4417068  1996-11-26          F       MUMBAI            17874.44   \n",
       "3   C5342380  1973-09-14          F       MUMBAI           866503.21   \n",
       "4   C9031234  1988-03-24          F  NAVI MUMBAI             6714.43   \n",
       "\n",
       "  TransactionDate  TransactionTime  TransactionAmount (INR)  CustomerAge  \n",
       "0      2016-02-08           143207                     25.0           31  \n",
       "1      2016-02-08           141858                  27999.0           68  \n",
       "2      2016-02-08           142712                    459.0           28  \n",
       "3      2016-02-08           142714                   2060.0           52  \n",
       "4      2016-02-08           181156                   1762.5           37  "
      ]
     },
     "execution_count": 20,
     "metadata": {},
     "output_type": "execute_result"
    }
   ],
   "source": [
    "# How old was each customer at the point of their last tranasction?\n",
    "today = pd.to_datetime('today')\n",
    "df['CustomerAge'] = (today - df['CustomerDOB']).dt.days // 365\n",
    "df.head()"
   ]
  },
  {
   "cell_type": "code",
   "execution_count": 21,
   "metadata": {
    "colab": {
     "base_uri": "https://localhost:8080/",
     "height": 335
    },
    "executionInfo": {
     "elapsed": 21,
     "status": "ok",
     "timestamp": 1759863183460,
     "user": {
      "displayName": "Godfrey Alexander",
      "userId": "16346979036691848608"
     },
     "user_tz": -60
    },
    "id": "jsVL0Wtt1mDu",
    "outputId": "d1a96e9c-ba0d-44b0-b54c-f31814265ea9"
   },
   "outputs": [
    {
     "data": {
      "text/plain": [
       "count    985322.000000\n",
       "mean         39.848611\n",
       "std           8.764251\n",
       "min           5.000000\n",
       "25%          34.000000\n",
       "50%          38.000000\n",
       "75%          43.000000\n",
       "max         104.000000\n",
       "Name: CustomerAge, dtype: float64"
      ]
     },
     "execution_count": 21,
     "metadata": {},
     "output_type": "execute_result"
    }
   ],
   "source": [
    "df['CustomerAge'].describe()"
   ]
  },
  {
   "cell_type": "markdown",
   "metadata": {},
   "source": [
    "We would now check for customer date of birth that results in the customer being less than 18 years.\n",
    "\n",
    "We would perform this operation based on the assumption that only customers older than 18 years are allowed to open an account and transact with the company."
   ]
  },
  {
   "cell_type": "code",
   "execution_count": 22,
   "metadata": {
    "executionInfo": {
     "elapsed": 200,
     "status": "ok",
     "timestamp": 1759863276836,
     "user": {
      "displayName": "Godfrey Alexander",
      "userId": "16346979036691848608"
     },
     "user_tz": -60
    },
    "id": "aiyvvZCxBaFV"
   },
   "outputs": [],
   "source": [
    "# Selecting customers with age greater than 18\n",
    "df = df[df['CustomerAge'] > 18]"
   ]
  },
  {
   "cell_type": "code",
   "execution_count": null,
   "metadata": {
    "executionInfo": {
     "elapsed": 38,
     "status": "ok",
     "timestamp": 1759863166816,
     "user": {
      "displayName": "Godfrey Alexander",
      "userId": "16346979036691848608"
     },
     "user_tz": -60
    },
    "id": "EyYjB96w1mag"
   },
   "outputs": [],
   "source": []
  },
  {
   "cell_type": "code",
   "execution_count": null,
   "metadata": {
    "executionInfo": {
     "elapsed": 38,
     "status": "ok",
     "timestamp": 1759863166862,
     "user": {
      "displayName": "Godfrey Alexander",
      "userId": "16346979036691848608"
     },
     "user_tz": -60
    },
    "id": "jPUIZQZv1mdi"
   },
   "outputs": [],
   "source": []
  },
  {
   "cell_type": "code",
   "execution_count": null,
   "metadata": {
    "executionInfo": {
     "elapsed": 8,
     "status": "ok",
     "timestamp": 1759863166873,
     "user": {
      "displayName": "Godfrey Alexander",
      "userId": "16346979036691848608"
     },
     "user_tz": -60
    },
    "id": "ck5-rk751mgt"
   },
   "outputs": [],
   "source": []
  },
  {
   "cell_type": "code",
   "execution_count": null,
   "metadata": {
    "executionInfo": {
     "elapsed": 57,
     "status": "ok",
     "timestamp": 1759863166936,
     "user": {
      "displayName": "Godfrey Alexander",
      "userId": "16346979036691848608"
     },
     "user_tz": -60
    },
    "id": "1-ysePxV1mj_"
   },
   "outputs": [],
   "source": []
  },
  {
   "cell_type": "code",
   "execution_count": null,
   "metadata": {
    "executionInfo": {
     "elapsed": 33,
     "status": "ok",
     "timestamp": 1759863166943,
     "user": {
      "displayName": "Godfrey Alexander",
      "userId": "16346979036691848608"
     },
     "user_tz": -60
    },
    "id": "QJgkq1lO1moG"
   },
   "outputs": [],
   "source": []
  },
  {
   "cell_type": "code",
   "execution_count": null,
   "metadata": {
    "executionInfo": {
     "elapsed": 34,
     "status": "ok",
     "timestamp": 1759863166948,
     "user": {
      "displayName": "Godfrey Alexander",
      "userId": "16346979036691848608"
     },
     "user_tz": -60
    },
    "id": "X8CwHtbq1mqF"
   },
   "outputs": [],
   "source": []
  },
  {
   "cell_type": "code",
   "execution_count": null,
   "metadata": {
    "executionInfo": {
     "elapsed": 41,
     "status": "ok",
     "timestamp": 1759863166958,
     "user": {
      "displayName": "Godfrey Alexander",
      "userId": "16346979036691848608"
     },
     "user_tz": -60
    },
    "id": "7iWv1c_j1nC6"
   },
   "outputs": [],
   "source": []
  },
  {
   "cell_type": "code",
   "execution_count": null,
   "metadata": {
    "executionInfo": {
     "elapsed": 31,
     "status": "ok",
     "timestamp": 1759863166962,
     "user": {
      "displayName": "Godfrey Alexander",
      "userId": "16346979036691848608"
     },
     "user_tz": -60
    },
    "id": "b8OU9Ohd1nFm"
   },
   "outputs": [],
   "source": []
  },
  {
   "cell_type": "code",
   "execution_count": null,
   "metadata": {
    "executionInfo": {
     "elapsed": 21,
     "status": "ok",
     "timestamp": 1759863166966,
     "user": {
      "displayName": "Godfrey Alexander",
      "userId": "16346979036691848608"
     },
     "user_tz": -60
    },
    "id": "B7a3UtPK1nIg"
   },
   "outputs": [],
   "source": []
  },
  {
   "cell_type": "code",
   "execution_count": null,
   "metadata": {
    "executionInfo": {
     "elapsed": 19,
     "status": "ok",
     "timestamp": 1759863166975,
     "user": {
      "displayName": "Godfrey Alexander",
      "userId": "16346979036691848608"
     },
     "user_tz": -60
    },
    "id": "Yn4fA7Ru1nLk"
   },
   "outputs": [],
   "source": []
  },
  {
   "cell_type": "code",
   "execution_count": null,
   "metadata": {
    "executionInfo": {
     "elapsed": 14,
     "status": "ok",
     "timestamp": 1759863166978,
     "user": {
      "displayName": "Godfrey Alexander",
      "userId": "16346979036691848608"
     },
     "user_tz": -60
    },
    "id": "qs877arp1nOv"
   },
   "outputs": [],
   "source": []
  },
  {
   "cell_type": "code",
   "execution_count": null,
   "metadata": {
    "executionInfo": {
     "elapsed": 7,
     "status": "ok",
     "timestamp": 1759863166979,
     "user": {
      "displayName": "Godfrey Alexander",
      "userId": "16346979036691848608"
     },
     "user_tz": -60
    },
    "id": "f776Skra1nRX"
   },
   "outputs": [],
   "source": []
  },
  {
   "cell_type": "code",
   "execution_count": null,
   "metadata": {
    "executionInfo": {
     "elapsed": 3,
     "status": "ok",
     "timestamp": 1759863166984,
     "user": {
      "displayName": "Godfrey Alexander",
      "userId": "16346979036691848608"
     },
     "user_tz": -60
    },
    "id": "Id4CEGgK1nUQ"
   },
   "outputs": [],
   "source": []
  },
  {
   "cell_type": "code",
   "execution_count": null,
   "metadata": {
    "executionInfo": {
     "elapsed": 3,
     "status": "ok",
     "timestamp": 1759863166991,
     "user": {
      "displayName": "Godfrey Alexander",
      "userId": "16346979036691848608"
     },
     "user_tz": -60
    },
    "id": "Wott190n1nXZ"
   },
   "outputs": [],
   "source": []
  },
  {
   "cell_type": "code",
   "execution_count": null,
   "metadata": {
    "executionInfo": {
     "elapsed": 48,
     "status": "ok",
     "timestamp": 1759863167041,
     "user": {
      "displayName": "Godfrey Alexander",
      "userId": "16346979036691848608"
     },
     "user_tz": -60
    },
    "id": "Mz6vNtWx1ns0"
   },
   "outputs": [],
   "source": []
  },
  {
   "cell_type": "code",
   "execution_count": null,
   "metadata": {
    "executionInfo": {
     "elapsed": 14,
     "status": "ok",
     "timestamp": 1759863167046,
     "user": {
      "displayName": "Godfrey Alexander",
      "userId": "16346979036691848608"
     },
     "user_tz": -60
    },
    "id": "gp49PGJD1nwg"
   },
   "outputs": [],
   "source": []
  }
 ],
 "metadata": {
  "colab": {
   "authorship_tag": "ABX9TyPvae2pFqYw9E4KE2FHCyvQ",
   "mount_file_id": "12_0RVWcBXIlWumlNW2QQTmmK1qRGd6DH",
   "provenance": []
  },
  "kernelspec": {
   "display_name": "Python 3 (ipykernel)",
   "language": "python",
   "name": "python3"
  },
  "language_info": {
   "codemirror_mode": {
    "name": "ipython",
    "version": 3
   },
   "file_extension": ".py",
   "mimetype": "text/x-python",
   "name": "python",
   "nbconvert_exporter": "python",
   "pygments_lexer": "ipython3",
   "version": "3.13.5"
  }
 },
 "nbformat": 4,
 "nbformat_minor": 4
}
