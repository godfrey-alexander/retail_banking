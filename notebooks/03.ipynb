{
 "cells": [
  {
   "cell_type": "markdown",
   "id": "4bd34e37-5a2f-42fa-a373-733b7a44f628",
   "metadata": {},
   "source": [
    "### Importing Libraries & Loading the dataset"
   ]
  },
  {
   "cell_type": "code",
   "execution_count": 1,
   "id": "66edc47e-50fe-4e41-90ad-82b00c85caea",
   "metadata": {},
   "outputs": [],
   "source": [
    "import os\n",
    "os.environ[\"LOKY_MAX_CPU_COUNT\"] = \"14\""
   ]
  },
  {
   "cell_type": "code",
   "execution_count": 2,
   "id": "32ef7da8-25aa-4244-9758-5d19b9207518",
   "metadata": {},
   "outputs": [],
   "source": [
    "import pandas as pd\n",
    "import numpy as np\n",
    "import matplotlib.pyplot as plt\n",
    "import seaborn as sns\n",
    "\n",
    "from sklearn.preprocessing import LabelEncoder\n",
    "from sklearn.preprocessing import RobustScaler\n",
    "from sklearn.cluster import KMeans\n",
    "from sklearn.metrics import silhouette_score, davies_bouldin_score, calinski_harabasz_score"
   ]
  },
  {
   "cell_type": "code",
   "execution_count": 3,
   "id": "400b5400-08b3-4f7c-9557-893679f1c5db",
   "metadata": {},
   "outputs": [],
   "source": [
    "df = pd.read_csv('../output/RFM_data')"
   ]
  },
  {
   "cell_type": "code",
   "execution_count": 4,
   "id": "d6af5eac-050e-431a-ad43-0777d5482b2f",
   "metadata": {},
   "outputs": [
    {
     "data": {
      "text/html": [
       "<div>\n",
       "<style scoped>\n",
       "    .dataframe tbody tr th:only-of-type {\n",
       "        vertical-align: middle;\n",
       "    }\n",
       "\n",
       "    .dataframe tbody tr th {\n",
       "        vertical-align: top;\n",
       "    }\n",
       "\n",
       "    .dataframe thead th {\n",
       "        text-align: right;\n",
       "    }\n",
       "</style>\n",
       "<table border=\"1\" class=\"dataframe\">\n",
       "  <thead>\n",
       "    <tr style=\"text-align: right;\">\n",
       "      <th></th>\n",
       "      <th>CustomerID</th>\n",
       "      <th>Recency</th>\n",
       "      <th>Frequency</th>\n",
       "      <th>Monetary</th>\n",
       "    </tr>\n",
       "  </thead>\n",
       "  <tbody>\n",
       "    <tr>\n",
       "      <th>0</th>\n",
       "      <td>C1010011</td>\n",
       "      <td>74</td>\n",
       "      <td>2</td>\n",
       "      <td>5106.0</td>\n",
       "    </tr>\n",
       "    <tr>\n",
       "      <th>1</th>\n",
       "      <td>C1010012</td>\n",
       "      <td>117</td>\n",
       "      <td>1</td>\n",
       "      <td>1499.0</td>\n",
       "    </tr>\n",
       "    <tr>\n",
       "      <th>2</th>\n",
       "      <td>C1010014</td>\n",
       "      <td>154</td>\n",
       "      <td>2</td>\n",
       "      <td>1455.0</td>\n",
       "    </tr>\n",
       "    <tr>\n",
       "      <th>3</th>\n",
       "      <td>C1010018</td>\n",
       "      <td>85</td>\n",
       "      <td>1</td>\n",
       "      <td>30.0</td>\n",
       "    </tr>\n",
       "    <tr>\n",
       "      <th>4</th>\n",
       "      <td>C1010024</td>\n",
       "      <td>113</td>\n",
       "      <td>1</td>\n",
       "      <td>5000.0</td>\n",
       "    </tr>\n",
       "  </tbody>\n",
       "</table>\n",
       "</div>"
      ],
      "text/plain": [
       "  CustomerID  Recency  Frequency  Monetary\n",
       "0   C1010011       74          2    5106.0\n",
       "1   C1010012      117          1    1499.0\n",
       "2   C1010014      154          2    1455.0\n",
       "3   C1010018       85          1      30.0\n",
       "4   C1010024      113          1    5000.0"
      ]
     },
     "execution_count": 4,
     "metadata": {},
     "output_type": "execute_result"
    }
   ],
   "source": [
    "df.head()"
   ]
  },
  {
   "cell_type": "code",
   "execution_count": 5,
   "id": "5cee1861-8851-4bf5-b1d0-bd2b61cca442",
   "metadata": {},
   "outputs": [
    {
     "name": "stdout",
     "output_type": "stream",
     "text": [
      "<class 'pandas.core.frame.DataFrame'>\n",
      "RangeIndex: 838932 entries, 0 to 838931\n",
      "Data columns (total 4 columns):\n",
      " #   Column      Non-Null Count   Dtype  \n",
      "---  ------      --------------   -----  \n",
      " 0   CustomerID  838932 non-null  object \n",
      " 1   Recency     838932 non-null  int64  \n",
      " 2   Frequency   838932 non-null  int64  \n",
      " 3   Monetary    838932 non-null  float64\n",
      "dtypes: float64(1), int64(2), object(1)\n",
      "memory usage: 25.6+ MB\n"
     ]
    }
   ],
   "source": [
    "df.info()"
   ]
  },
  {
   "cell_type": "code",
   "execution_count": 6,
   "id": "48b2c2ee-fb37-42fb-a77b-431142eff2d2",
   "metadata": {},
   "outputs": [],
   "source": [
    "df['Recency'] = df['Recency'].astype('float')"
   ]
  },
  {
   "cell_type": "code",
   "execution_count": 7,
   "id": "b2e79fec-6eaa-499f-aeea-290857c8322f",
   "metadata": {},
   "outputs": [
    {
     "data": {
      "text/html": [
       "<div>\n",
       "<style scoped>\n",
       "    .dataframe tbody tr th:only-of-type {\n",
       "        vertical-align: middle;\n",
       "    }\n",
       "\n",
       "    .dataframe tbody tr th {\n",
       "        vertical-align: top;\n",
       "    }\n",
       "\n",
       "    .dataframe thead th {\n",
       "        text-align: right;\n",
       "    }\n",
       "</style>\n",
       "<table border=\"1\" class=\"dataframe\">\n",
       "  <thead>\n",
       "    <tr style=\"text-align: right;\">\n",
       "      <th></th>\n",
       "      <th>Recency</th>\n",
       "      <th>Frequency</th>\n",
       "      <th>Monetary</th>\n",
       "    </tr>\n",
       "  </thead>\n",
       "  <tbody>\n",
       "    <tr>\n",
       "      <th>0</th>\n",
       "      <td>74.0</td>\n",
       "      <td>2</td>\n",
       "      <td>5106.0</td>\n",
       "    </tr>\n",
       "    <tr>\n",
       "      <th>1</th>\n",
       "      <td>117.0</td>\n",
       "      <td>1</td>\n",
       "      <td>1499.0</td>\n",
       "    </tr>\n",
       "    <tr>\n",
       "      <th>2</th>\n",
       "      <td>154.0</td>\n",
       "      <td>2</td>\n",
       "      <td>1455.0</td>\n",
       "    </tr>\n",
       "    <tr>\n",
       "      <th>3</th>\n",
       "      <td>85.0</td>\n",
       "      <td>1</td>\n",
       "      <td>30.0</td>\n",
       "    </tr>\n",
       "    <tr>\n",
       "      <th>4</th>\n",
       "      <td>113.0</td>\n",
       "      <td>1</td>\n",
       "      <td>5000.0</td>\n",
       "    </tr>\n",
       "    <tr>\n",
       "      <th>...</th>\n",
       "      <td>...</td>\n",
       "      <td>...</td>\n",
       "      <td>...</td>\n",
       "    </tr>\n",
       "    <tr>\n",
       "      <th>838927</th>\n",
       "      <td>154.0</td>\n",
       "      <td>1</td>\n",
       "      <td>691.0</td>\n",
       "    </tr>\n",
       "    <tr>\n",
       "      <th>838928</th>\n",
       "      <td>85.0</td>\n",
       "      <td>1</td>\n",
       "      <td>222.0</td>\n",
       "    </tr>\n",
       "    <tr>\n",
       "      <th>838929</th>\n",
       "      <td>113.0</td>\n",
       "      <td>1</td>\n",
       "      <td>126.0</td>\n",
       "    </tr>\n",
       "    <tr>\n",
       "      <th>838930</th>\n",
       "      <td>103.0</td>\n",
       "      <td>1</td>\n",
       "      <td>50.0</td>\n",
       "    </tr>\n",
       "    <tr>\n",
       "      <th>838931</th>\n",
       "      <td>75.0</td>\n",
       "      <td>1</td>\n",
       "      <td>855.0</td>\n",
       "    </tr>\n",
       "  </tbody>\n",
       "</table>\n",
       "<p>838932 rows × 3 columns</p>\n",
       "</div>"
      ],
      "text/plain": [
       "        Recency  Frequency  Monetary\n",
       "0          74.0          2    5106.0\n",
       "1         117.0          1    1499.0\n",
       "2         154.0          2    1455.0\n",
       "3          85.0          1      30.0\n",
       "4         113.0          1    5000.0\n",
       "...         ...        ...       ...\n",
       "838927    154.0          1     691.0\n",
       "838928     85.0          1     222.0\n",
       "838929    113.0          1     126.0\n",
       "838930    103.0          1      50.0\n",
       "838931     75.0          1     855.0\n",
       "\n",
       "[838932 rows x 3 columns]"
      ]
     },
     "execution_count": 7,
     "metadata": {},
     "output_type": "execute_result"
    }
   ],
   "source": [
    "num_cols = df.select_dtypes(exclude='object')\n",
    "\n",
    "num_cols"
   ]
  },
  {
   "cell_type": "code",
   "execution_count": null,
   "id": "26cbe347-e954-4f9b-b279-6933f9f23bb6",
   "metadata": {},
   "outputs": [],
   "source": []
  },
  {
   "cell_type": "markdown",
   "id": "ecce1131-1db0-43fe-b7c0-90f422cef37d",
   "metadata": {},
   "source": [
    "### EDA"
   ]
  },
  {
   "cell_type": "code",
   "execution_count": 8,
   "id": "7fa229ae-5a05-48fe-9353-1a0a2125de56",
   "metadata": {},
   "outputs": [
    {
     "data": {
      "text/plain": [
       "<Axes: xlabel='Recency'>"
      ]
     },
     "execution_count": 8,
     "metadata": {},
     "output_type": "execute_result"
    },
    {
     "data": {
      "image/png": "[encoded data removed]",
      "text/plain": [
       "<Figure size 640x480 with 1 Axes>"
      ]
     },
     "metadata": {},
     "output_type": "display_data"
    }
   ],
   "source": [
    "sns.boxplot(data=df, x=df['Recency'], showmeans=True, meanprops={'markerfacecolor':'red', \"markeredgecolor\": \"black\", \"markersize\": \"8\"})"
   ]
  },
  {
   "cell_type": "code",
   "execution_count": 9,
   "id": "910a7601-5460-48d4-a16c-458f9a1a6b4b",
   "metadata": {},
   "outputs": [
    {
     "data": {
      "text/plain": [
       "<Axes: xlabel='Frequency'>"
      ]
     },
     "execution_count": 9,
     "metadata": {},
     "output_type": "execute_result"
    },
    {
     "data": {
      "image/png": "[encoded data removed]",
      "text/plain": [
       "<Figure size 640x480 with 1 Axes>"
      ]
     },
     "metadata": {},
     "output_type": "display_data"
    }
   ],
   "source": [
    "sns.boxplot(data=df, x=df['Frequency'], showmeans=True, meanprops={'markerfacecolor':'red', \"markeredgecolor\": \"black\", \"markersize\": \"8\"})"
   ]
  },
  {
   "cell_type": "code",
   "execution_count": 10,
   "id": "9fc11f3f-74f4-4167-ac4f-37241c62d1d6",
   "metadata": {},
   "outputs": [],
   "source": [
    "# How many rows of data does the outliers constitute?\n",
    "# What are the techniques I can use to handle the outliers?\n",
    "# \n"
   ]
  },
  {
   "cell_type": "code",
   "execution_count": null,
   "id": "a32967c7-5647-42db-bb4d-516ab6af85f3",
   "metadata": {},
   "outputs": [],
   "source": []
  },
  {
   "cell_type": "code",
   "execution_count": null,
   "id": "dce61f9a-a1de-483b-8d07-d56cfef4cf78",
   "metadata": {},
   "outputs": [],
   "source": []
  },
  {
   "cell_type": "code",
   "execution_count": null,
   "id": "3a9a2159-049b-481c-8b4b-7ce1e0c97711",
   "metadata": {},
   "outputs": [],
   "source": []
  },
  {
   "cell_type": "code",
   "execution_count": 11,
   "id": "c1391e76-bed3-4543-9cb7-f132b56aaf03",
   "metadata": {},
   "outputs": [
    {
     "data": {
      "text/plain": [
       "<Axes: xlabel='Monetary'>"
      ]
     },
     "execution_count": 11,
     "metadata": {},
     "output_type": "execute_result"
    },
    {
     "data": {
      "image/png": "[encoded data removed]",
      "text/plain": [
       "<Figure size 640x480 with 1 Axes>"
      ]
     },
     "metadata": {},
     "output_type": "display_data"
    }
   ],
   "source": [
    "sns.boxplot(data=df, x=df['Monetary'], showmeans=True, meanprops={'markerfacecolor':'red', \"markeredgecolor\": \"black\", \"markersize\": \"8\"})"
   ]
  },
  {
   "cell_type": "code",
   "execution_count": null,
   "id": "909e9936-730d-4508-87f9-d1606cf4adf2",
   "metadata": {},
   "outputs": [],
   "source": []
  },
  {
   "cell_type": "markdown",
   "id": "3f1661b9-b543-4d06-ba62-9755e4ecaddb",
   "metadata": {},
   "source": [
    "### Data Preprocessing"
   ]
  },
  {
   "cell_type": "code",
   "execution_count": 12,
   "id": "e5160ab9-0dfe-41eb-ba48-12de592e8b66",
   "metadata": {},
   "outputs": [],
   "source": [
    "df = df.drop('CustomerID', axis=1)"
   ]
  },
  {
   "cell_type": "markdown",
   "id": "f716667e-11a0-4481-b710-16db55df34f1",
   "metadata": {},
   "source": [
    "#### Encoding categorical values"
   ]
  },
  {
   "cell_type": "code",
   "execution_count": 13,
   "id": "579f1774-7a0d-429d-b809-657f023b362b",
   "metadata": {},
   "outputs": [],
   "source": [
    "# encoder = LabelEncoder()\n",
    "\n",
    "# df['CustomerID'] = encoder.fit_transform(df['CustomerID'])\n",
    "\n",
    "# df.head()"
   ]
  },
  {
   "cell_type": "markdown",
   "id": "0413efbb-d070-4286-b16b-bdad5f837d48",
   "metadata": {},
   "source": [
    "#### Scale and standardize the numerical columns"
   ]
  },
  {
   "cell_type": "code",
   "execution_count": 14,
   "id": "7fad2fe9-479b-40d2-87a6-3f27f91891e9",
   "metadata": {},
   "outputs": [],
   "source": [
    "# What is the shape of the data in each column? \n",
    "# The shape of the data determines the type of scaler you would be using. To determine that we have to do perform some basic EDA.\n"
   ]
  },
  {
   "cell_type": "code",
   "execution_count": 15,
   "id": "91aa4ba9-be58-415e-a239-b4c0223312e7",
   "metadata": {},
   "outputs": [
    {
     "data": {
      "text/html": [
       "<div>\n",
       "<style scoped>\n",
       "    .dataframe tbody tr th:only-of-type {\n",
       "        vertical-align: middle;\n",
       "    }\n",
       "\n",
       "    .dataframe tbody tr th {\n",
       "        vertical-align: top;\n",
       "    }\n",
       "\n",
       "    .dataframe thead th {\n",
       "        text-align: right;\n",
       "    }\n",
       "</style>\n",
       "<table border=\"1\" class=\"dataframe\">\n",
       "  <thead>\n",
       "    <tr style=\"text-align: right;\">\n",
       "      <th></th>\n",
       "      <th>Recency</th>\n",
       "      <th>Frequency</th>\n",
       "      <th>Monetary</th>\n",
       "    </tr>\n",
       "  </thead>\n",
       "  <tbody>\n",
       "    <tr>\n",
       "      <th>0</th>\n",
       "      <td>74.0</td>\n",
       "      <td>2</td>\n",
       "      <td>5106.0</td>\n",
       "    </tr>\n",
       "    <tr>\n",
       "      <th>1</th>\n",
       "      <td>117.0</td>\n",
       "      <td>1</td>\n",
       "      <td>1499.0</td>\n",
       "    </tr>\n",
       "    <tr>\n",
       "      <th>2</th>\n",
       "      <td>154.0</td>\n",
       "      <td>2</td>\n",
       "      <td>1455.0</td>\n",
       "    </tr>\n",
       "    <tr>\n",
       "      <th>3</th>\n",
       "      <td>85.0</td>\n",
       "      <td>1</td>\n",
       "      <td>30.0</td>\n",
       "    </tr>\n",
       "    <tr>\n",
       "      <th>4</th>\n",
       "      <td>113.0</td>\n",
       "      <td>1</td>\n",
       "      <td>5000.0</td>\n",
       "    </tr>\n",
       "    <tr>\n",
       "      <th>...</th>\n",
       "      <td>...</td>\n",
       "      <td>...</td>\n",
       "      <td>...</td>\n",
       "    </tr>\n",
       "    <tr>\n",
       "      <th>838927</th>\n",
       "      <td>154.0</td>\n",
       "      <td>1</td>\n",
       "      <td>691.0</td>\n",
       "    </tr>\n",
       "    <tr>\n",
       "      <th>838928</th>\n",
       "      <td>85.0</td>\n",
       "      <td>1</td>\n",
       "      <td>222.0</td>\n",
       "    </tr>\n",
       "    <tr>\n",
       "      <th>838929</th>\n",
       "      <td>113.0</td>\n",
       "      <td>1</td>\n",
       "      <td>126.0</td>\n",
       "    </tr>\n",
       "    <tr>\n",
       "      <th>838930</th>\n",
       "      <td>103.0</td>\n",
       "      <td>1</td>\n",
       "      <td>50.0</td>\n",
       "    </tr>\n",
       "    <tr>\n",
       "      <th>838931</th>\n",
       "      <td>75.0</td>\n",
       "      <td>1</td>\n",
       "      <td>855.0</td>\n",
       "    </tr>\n",
       "  </tbody>\n",
       "</table>\n",
       "<p>838932 rows × 3 columns</p>\n",
       "</div>"
      ],
      "text/plain": [
       "        Recency  Frequency  Monetary\n",
       "0          74.0          2    5106.0\n",
       "1         117.0          1    1499.0\n",
       "2         154.0          2    1455.0\n",
       "3          85.0          1      30.0\n",
       "4         113.0          1    5000.0\n",
       "...         ...        ...       ...\n",
       "838927    154.0          1     691.0\n",
       "838928     85.0          1     222.0\n",
       "838929    113.0          1     126.0\n",
       "838930    103.0          1      50.0\n",
       "838931     75.0          1     855.0\n",
       "\n",
       "[838932 rows x 3 columns]"
      ]
     },
     "execution_count": 15,
     "metadata": {},
     "output_type": "execute_result"
    }
   ],
   "source": [
    "\n",
    "num_cols"
   ]
  },
  {
   "cell_type": "code",
   "execution_count": 16,
   "id": "81031370-b8bd-425c-9894-e69380f58517",
   "metadata": {},
   "outputs": [
    {
     "name": "stdout",
     "output_type": "stream",
     "text": [
      "<class 'pandas.core.frame.DataFrame'>\n",
      "RangeIndex: 838932 entries, 0 to 838931\n",
      "Data columns (total 3 columns):\n",
      " #   Column     Non-Null Count   Dtype  \n",
      "---  ------     --------------   -----  \n",
      " 0   Recency    838932 non-null  float64\n",
      " 1   Frequency  838932 non-null  int64  \n",
      " 2   Monetary   838932 non-null  float64\n",
      "dtypes: float64(2), int64(1)\n",
      "memory usage: 19.2 MB\n"
     ]
    }
   ],
   "source": [
    "df.info()"
   ]
  },
  {
   "cell_type": "code",
   "execution_count": 17,
   "id": "5ce02abe-eb70-4d91-a07f-bb0755f15e05",
   "metadata": {},
   "outputs": [],
   "source": [
    "scaler = RobustScaler()\n",
    "\n",
    "df[num_cols.columns] = scaler.fit_transform(df[num_cols.columns])"
   ]
  },
  {
   "cell_type": "code",
   "execution_count": 18,
   "id": "7dc17554-14db-4bb6-a7c2-8a4f034e56ac",
   "metadata": {},
   "outputs": [
    {
     "data": {
      "text/html": [
       "<div>\n",
       "<style scoped>\n",
       "    .dataframe tbody tr th:only-of-type {\n",
       "        vertical-align: middle;\n",
       "    }\n",
       "\n",
       "    .dataframe tbody tr th {\n",
       "        vertical-align: top;\n",
       "    }\n",
       "\n",
       "    .dataframe thead th {\n",
       "        text-align: right;\n",
       "    }\n",
       "</style>\n",
       "<table border=\"1\" class=\"dataframe\">\n",
       "  <thead>\n",
       "    <tr style=\"text-align: right;\">\n",
       "      <th></th>\n",
       "      <th>Recency</th>\n",
       "      <th>Frequency</th>\n",
       "      <th>Monetary</th>\n",
       "    </tr>\n",
       "  </thead>\n",
       "  <tbody>\n",
       "    <tr>\n",
       "      <th>0</th>\n",
       "      <td>-0.514706</td>\n",
       "      <td>1.0</td>\n",
       "      <td>3.775410</td>\n",
       "    </tr>\n",
       "    <tr>\n",
       "      <th>1</th>\n",
       "      <td>0.117647</td>\n",
       "      <td>0.0</td>\n",
       "      <td>0.818852</td>\n",
       "    </tr>\n",
       "    <tr>\n",
       "      <th>2</th>\n",
       "      <td>0.661765</td>\n",
       "      <td>1.0</td>\n",
       "      <td>0.782787</td>\n",
       "    </tr>\n",
       "    <tr>\n",
       "      <th>3</th>\n",
       "      <td>-0.352941</td>\n",
       "      <td>0.0</td>\n",
       "      <td>-0.385246</td>\n",
       "    </tr>\n",
       "    <tr>\n",
       "      <th>4</th>\n",
       "      <td>0.058824</td>\n",
       "      <td>0.0</td>\n",
       "      <td>3.688525</td>\n",
       "    </tr>\n",
       "    <tr>\n",
       "      <th>...</th>\n",
       "      <td>...</td>\n",
       "      <td>...</td>\n",
       "      <td>...</td>\n",
       "    </tr>\n",
       "    <tr>\n",
       "      <th>838927</th>\n",
       "      <td>0.661765</td>\n",
       "      <td>0.0</td>\n",
       "      <td>0.156557</td>\n",
       "    </tr>\n",
       "    <tr>\n",
       "      <th>838928</th>\n",
       "      <td>-0.352941</td>\n",
       "      <td>0.0</td>\n",
       "      <td>-0.227869</td>\n",
       "    </tr>\n",
       "    <tr>\n",
       "      <th>838929</th>\n",
       "      <td>0.058824</td>\n",
       "      <td>0.0</td>\n",
       "      <td>-0.306557</td>\n",
       "    </tr>\n",
       "    <tr>\n",
       "      <th>838930</th>\n",
       "      <td>-0.088235</td>\n",
       "      <td>0.0</td>\n",
       "      <td>-0.368852</td>\n",
       "    </tr>\n",
       "    <tr>\n",
       "      <th>838931</th>\n",
       "      <td>-0.500000</td>\n",
       "      <td>0.0</td>\n",
       "      <td>0.290984</td>\n",
       "    </tr>\n",
       "  </tbody>\n",
       "</table>\n",
       "<p>838932 rows × 3 columns</p>\n",
       "</div>"
      ],
      "text/plain": [
       "         Recency  Frequency  Monetary\n",
       "0      -0.514706        1.0  3.775410\n",
       "1       0.117647        0.0  0.818852\n",
       "2       0.661765        1.0  0.782787\n",
       "3      -0.352941        0.0 -0.385246\n",
       "4       0.058824        0.0  3.688525\n",
       "...          ...        ...       ...\n",
       "838927  0.661765        0.0  0.156557\n",
       "838928 -0.352941        0.0 -0.227869\n",
       "838929  0.058824        0.0 -0.306557\n",
       "838930 -0.088235        0.0 -0.368852\n",
       "838931 -0.500000        0.0  0.290984\n",
       "\n",
       "[838932 rows x 3 columns]"
      ]
     },
     "execution_count": 18,
     "metadata": {},
     "output_type": "execute_result"
    }
   ],
   "source": [
    "df"
   ]
  },
  {
   "cell_type": "code",
   "execution_count": 19,
   "id": "076e6de7-5664-4b20-995d-4e3accd44a93",
   "metadata": {},
   "outputs": [
    {
     "data": {
      "text/html": [
       "<div>\n",
       "<style scoped>\n",
       "    .dataframe tbody tr th:only-of-type {\n",
       "        vertical-align: middle;\n",
       "    }\n",
       "\n",
       "    .dataframe tbody tr th {\n",
       "        vertical-align: top;\n",
       "    }\n",
       "\n",
       "    .dataframe thead th {\n",
       "        text-align: right;\n",
       "    }\n",
       "</style>\n",
       "<table border=\"1\" class=\"dataframe\">\n",
       "  <thead>\n",
       "    <tr style=\"text-align: right;\">\n",
       "      <th></th>\n",
       "      <th>Recency</th>\n",
       "      <th>Frequency</th>\n",
       "      <th>Monetary</th>\n",
       "    </tr>\n",
       "  </thead>\n",
       "  <tbody>\n",
       "    <tr>\n",
       "      <th>0</th>\n",
       "      <td>-0.514706</td>\n",
       "      <td>1.0</td>\n",
       "      <td>3.775410</td>\n",
       "    </tr>\n",
       "    <tr>\n",
       "      <th>1</th>\n",
       "      <td>0.117647</td>\n",
       "      <td>0.0</td>\n",
       "      <td>0.818852</td>\n",
       "    </tr>\n",
       "    <tr>\n",
       "      <th>2</th>\n",
       "      <td>0.661765</td>\n",
       "      <td>1.0</td>\n",
       "      <td>0.782787</td>\n",
       "    </tr>\n",
       "    <tr>\n",
       "      <th>3</th>\n",
       "      <td>-0.352941</td>\n",
       "      <td>0.0</td>\n",
       "      <td>-0.385246</td>\n",
       "    </tr>\n",
       "    <tr>\n",
       "      <th>4</th>\n",
       "      <td>0.058824</td>\n",
       "      <td>0.0</td>\n",
       "      <td>3.688525</td>\n",
       "    </tr>\n",
       "  </tbody>\n",
       "</table>\n",
       "</div>"
      ],
      "text/plain": [
       "    Recency  Frequency  Monetary\n",
       "0 -0.514706        1.0  3.775410\n",
       "1  0.117647        0.0  0.818852\n",
       "2  0.661765        1.0  0.782787\n",
       "3 -0.352941        0.0 -0.385246\n",
       "4  0.058824        0.0  3.688525"
      ]
     },
     "execution_count": 19,
     "metadata": {},
     "output_type": "execute_result"
    }
   ],
   "source": [
    "df.head()"
   ]
  },
  {
   "cell_type": "code",
   "execution_count": 20,
   "id": "f053a27b-c62e-4252-acef-7ed1bec84ed3",
   "metadata": {},
   "outputs": [
    {
     "name": "stdout",
     "output_type": "stream",
     "text": [
      "Testing different numbers of clusters...\n",
      "\n",
      "  K |         Inertia |   Silhouette |  Davies-Bouldin\n",
      "-------------------------------------------------------\n",
      "  2 |      15,629,996 |       0.9484 |          0.4820\n",
      "  3 |      10,292,868 |       0.9256 |          0.4680\n",
      "  4 |       6,879,568 |       0.8807 |          0.4402\n",
      "  5 |       5,425,816 |       0.7336 |          0.5267\n",
      "  6 |       4,100,121 |       0.7300 |          0.4861\n",
      "  7 |       3,259,285 |       0.5094 |          0.5482\n",
      "  8 |       2,553,318 |       0.5360 |          0.5378\n",
      "  9 |       2,042,542 |       0.5313 |          0.5362\n",
      " 10 |       1,724,513 |       0.5356 |          0.5604\n",
      " 11 |       1,522,426 |       0.5340 |          0.5479\n",
      " 12 |       1,387,570 |       0.5346 |          0.5560\n",
      " 13 |       1,239,026 |       0.4994 |          0.5972\n",
      " 14 |       1,117,818 |       0.4668 |          0.6168\n",
      " 15 |       1,031,691 |       0.4154 |          0.5974\n",
      "\n",
      "✅ Testing complete!\n"
     ]
    }
   ],
   "source": [
    "# Test different numbers of clusters\n",
    "K_range = range(2, 16)\n",
    "inertias = []\n",
    "silhouette_scores_list = []\n",
    "davies_bouldin_scores = []\n",
    "\n",
    "print(\"Testing different numbers of clusters...\\n\")\n",
    "print(f\"{'K':>3} | {'Inertia':>15} | {'Silhouette':>12} | {'Davies-Bouldin':>15}\")\n",
    "print(\"-\" * 55)\n",
    "\n",
    "for k in K_range:\n",
    "    # Create clusters\n",
    "    kmeans = KMeans(n_clusters=k, random_state=42, n_init=10, max_iter=300)\n",
    "    labels = kmeans.fit_predict(df)\n",
    "    \n",
    "    # Calculate metrics\n",
    "    inertia = kmeans.inertia_\n",
    "    silhouette = silhouette_score(df, labels, sample_size=10000)\n",
    "    davies_bouldin = davies_bouldin_score(df, labels)\n",
    "    \n",
    "    # Store results\n",
    "    inertias.append(inertia)\n",
    "    silhouette_scores_list.append(silhouette)\n",
    "    davies_bouldin_scores.append(davies_bouldin)\n",
    "    \n",
    "    # Print\n",
    "    print(f\"{k:>3} | {inertia:>15,.0f} | {silhouette:>12.4f} | {davies_bouldin:>15.4f}\")\n",
    "\n",
    "print(\"\\n✅ Testing complete!\")\n"
   ]
  },
  {
   "cell_type": "code",
   "execution_count": 21,
   "id": "e8728172-6fae-48cf-bcb2-9af10b72ce6d",
   "metadata": {},
   "outputs": [
    {
     "data": {
      "image/png": "[encoded data removed]",
      "text/plain": [
       "<Figure size 1800x500 with 3 Axes>"
      ]
     },
     "metadata": {},
     "output_type": "display_data"
    }
   ],
   "source": [
    "# Visualize all three methods\n",
    "fig, axes = plt.subplots(1, 3, figsize=(18, 5))\n",
    "\n",
    "# 1. Elbow Method\n",
    "axes[0].plot(K_range, inertias, 'bo-', linewidth=2, markersize=8)\n",
    "axes[0].set_xlabel('Number of Clusters (K)', fontsize=12)\n",
    "axes[0].set_ylabel('Inertia (Within-Cluster Sum of Squares)', fontsize=12)\n",
    "axes[0].set_title('Elbow Method', fontsize=14, fontweight='bold')\n",
    "axes[0].grid(True, alpha=0.3)\n",
    "axes[0].set_xticks(K_range)\n",
    "\n",
    "# 2. Silhouette Score (higher = better)\n",
    "axes[1].plot(K_range, silhouette_scores_list, 'go-', linewidth=2, markersize=8)\n",
    "axes[1].axhline(y=max(silhouette_scores_list), color='red', linestyle='--', alpha=0.5, label='Best Score')\n",
    "axes[1].set_xlabel('Number of Clusters (K)', fontsize=12)\n",
    "axes[1].set_ylabel('Silhouette Score', fontsize=12)\n",
    "axes[1].set_title('Silhouette Score (Higher = Better)', fontsize=14, fontweight='bold')\n",
    "axes[1].grid(True, alpha=0.3)\n",
    "axes[1].set_xticks(K_range)\n",
    "axes[1].legend()\n",
    "\n",
    "# 3. Davies-Bouldin Score (lower = better)\n",
    "axes[2].plot(K_range, davies_bouldin_scores, 'ro-', linewidth=2, markersize=8)\n",
    "axes[2].axhline(y=min(davies_bouldin_scores), color='green', linestyle='--', alpha=0.5, label='Best Score')\n",
    "axes[2].set_xlabel('Number of Clusters (K)', fontsize=12)\n",
    "axes[2].set_ylabel('Davies-Bouldin Score', fontsize=12)\n",
    "axes[2].set_title('Davies-Bouldin Score (Lower = Better)', fontsize=14, fontweight='bold')\n",
    "axes[2].grid(True, alpha=0.3)\n",
    "axes[2].set_xticks(K_range)\n",
    "axes[2].legend()\n",
    "\n",
    "plt.tight_layout()\n",
    "plt.show()"
   ]
  },
  {
   "cell_type": "code",
   "execution_count": 22,
   "id": "2eb6da75-83f5-4628-97ae-d1627374e879",
   "metadata": {},
   "outputs": [
    {
     "name": "stdout",
     "output_type": "stream",
     "text": [
      "📊 RECOMMENDATIONS:\n",
      "\n",
      "Based on Silhouette Score: K = 2 (score: 0.9484)\n",
      "Based on Davies-Bouldin: K = 4 (score: 0.4402)\n",
      "\n",
      "Elbow Method: Look for the 'elbow' in the first chart (where the curve bends)\n",
      "\n",
      "🎯 FINAL CHOICE: K = 4\n",
      "   This provides better business granularity for actionable segments\n"
     ]
    }
   ],
   "source": [
    "# Determine optimal K\n",
    "best_k_silhouette = K_range[silhouette_scores_list.index(max(silhouette_scores_list))]\n",
    "best_k_davies = K_range[davies_bouldin_scores.index(min(davies_bouldin_scores))]\n",
    "\n",
    "print(\"📊 RECOMMENDATIONS:\\n\")\n",
    "print(f\"Based on Silhouette Score: K = {best_k_silhouette} (score: {max(silhouette_scores_list):.4f})\")\n",
    "print(f\"Based on Davies-Bouldin: K = {best_k_davies} (score: {min(davies_bouldin_scores):.4f})\")\n",
    "print(f\"\\nElbow Method: Look for the 'elbow' in the first chart (where the curve bends)\")\n",
    "\n",
    "# Choose the optimal k\n",
    "optimal_k = best_k_davies  # Using Davies-Bouldin for better business granularity\n",
    "\n",
    "print(f\"\\n🎯 FINAL CHOICE: K = {optimal_k}\")\n",
    "print(f\"   This provides better business granularity for actionable segments\")\n"
   ]
  },
  {
   "cell_type": "code",
   "execution_count": null,
   "id": "7ef1d97b-74ef-4dc3-85c5-4b705eb1ebba",
   "metadata": {},
   "outputs": [],
   "source": []
  },
  {
   "cell_type": "code",
   "execution_count": null,
   "id": "0af481fe-04e7-419d-8771-f1c7425354de",
   "metadata": {},
   "outputs": [],
   "source": []
  },
  {
   "cell_type": "code",
   "execution_count": null,
   "id": "9b47c66e-80ce-4546-bf1f-b8d2c7b6474c",
   "metadata": {},
   "outputs": [],
   "source": []
  },
  {
   "cell_type": "code",
   "execution_count": null,
   "id": "c7fa6975-d1d3-4466-9283-61f287e764bd",
   "metadata": {},
   "outputs": [],
   "source": []
  },
  {
   "cell_type": "code",
   "execution_count": null,
   "id": "a4e9c824-72fa-4383-b128-559c1057dcc6",
   "metadata": {},
   "outputs": [],
   "source": []
  },
  {
   "cell_type": "code",
   "execution_count": null,
   "id": "52736624-7a5f-4b88-9853-5ea638579c4e",
   "metadata": {},
   "outputs": [],
   "source": []
  },
  {
   "cell_type": "code",
   "execution_count": null,
   "id": "41361730-1d74-4345-a016-34469490d5b3",
   "metadata": {},
   "outputs": [],
   "source": []
  },
  {
   "cell_type": "code",
   "execution_count": null,
   "id": "7ee36af9-1710-467b-a480-2a2a2c37874b",
   "metadata": {},
   "outputs": [],
   "source": []
  },
  {
   "cell_type": "code",
   "execution_count": null,
   "id": "23e6e297-25db-43a8-9225-4e7cc8f1bb7c",
   "metadata": {},
   "outputs": [],
   "source": []
  },
  {
   "cell_type": "code",
   "execution_count": null,
   "id": "c08dbf83-0c09-40d4-8c16-931281405b80",
   "metadata": {},
   "outputs": [],
   "source": []
  },
  {
   "cell_type": "code",
   "execution_count": null,
   "id": "d9949c65-d35a-4f7b-bb0b-a54add5366f6",
   "metadata": {},
   "outputs": [],
   "source": []
  },
  {
   "cell_type": "code",
   "execution_count": null,
   "id": "dd6fa21a-64f1-4d18-8e2b-d7c4083eabe6",
   "metadata": {},
   "outputs": [],
   "source": []
  }
 ],
 "metadata": {
  "kernelspec": {
   "display_name": "Python [conda env:base] *",
   "language": "python",
   "name": "conda-base-py"
  },
  "language_info": {
   "codemirror_mode": {
    "name": "ipython",
    "version": 3
   },
   "file_extension": ".py",
   "mimetype": "text/x-python",
   "name": "python",
   "nbconvert_exporter": "python",
   "pygments_lexer": "ipython3",
   "version": "3.13.5"
  }
 },
 "nbformat": 4,
 "nbformat_minor": 5
}
